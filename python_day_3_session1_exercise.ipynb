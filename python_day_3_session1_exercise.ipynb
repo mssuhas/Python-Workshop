{
  "nbformat": 4,
  "nbformat_minor": 0,
  "metadata": {
    "colab": {
      "name": "python day 3 session1 exercise.ipynb",
      "provenance": [],
      "authorship_tag": "ABX9TyN5St3gK1y7VVXx8DfopvuE",
      "include_colab_link": true
    },
    "kernelspec": {
      "name": "python3",
      "display_name": "Python 3"
    }
  },
  "cells": [
    {
      "cell_type": "markdown",
      "metadata": {
        "id": "view-in-github",
        "colab_type": "text"
      },
      "source": [
        "<a href=\"https://colab.research.google.com/github/mssuhas/Python-Workshop/blob/master/python_day_3_session1_exercise.ipynb\" target=\"_parent\"><img src=\"https://colab.research.google.com/assets/colab-badge.svg\" alt=\"Open In Colab\"/></a>"
      ]
    },
    {
      "cell_type": "code",
      "metadata": {
        "id": "fL3xSqWWzZXh",
        "colab_type": "code",
        "colab": {
          "base_uri": "https://localhost:8080/",
          "height": 86
        },
        "outputId": "5dd25e77-b3c8-4210-c3e7-64c4090f28ee"
      },
      "source": [
        "#Python program to find volume and surface area of Cylinder (V=pi*r*r*h, SA=2*pi*r*h)   a constructusing class and objects. Createor to initialize the objects and print the results  with 2 decimal points precision.( Finding Vol and SA using class and object)\n",
        "class cylin():\n",
        "  def __init__(self,r,h):\n",
        "    self.r=r\n",
        "    self.h=h\n",
        "  def vol(self):\n",
        "    return 3.142*self.r*self.r*self.h\n",
        "  def area(self):\n",
        "    return 2*3.142*self.r*self.h\n",
        "\n",
        "r=int(input(\"Enter radius of cylinder: \"))\n",
        "h=int(input(\"Enter height of cylinder: \"))\n",
        "obj=cylin(r,h)\n",
        "print(\"Area of cylinder:\",round(obj.area(),2))\n",
        "print(\"volume of cylinder:\",round(obj.vol(),2))"
      ],
      "execution_count": null,
      "outputs": [
        {
          "output_type": "stream",
          "text": [
            "Enter radius of cylinder: 4\n",
            "Enter height of cylinder: 6\n",
            "Area of cylinder: 150.82\n",
            "volume of cylinder: 301.63\n"
          ],
          "name": "stdout"
        }
      ]
    },
    {
      "cell_type": "code",
      "metadata": {
        "id": "MRbeXgKw13LS",
        "colab_type": "code",
        "colab": {
          "base_uri": "https://localhost:8080/",
          "height": 69
        },
        "outputId": "5e23927a-eae8-40cd-c0cb-72a8b1aa682d"
      },
      "source": [
        "#Create a class Student with constructor, setdata() and dispdata() for encapsulating rollno, name, mark1, mark2 into it. Create three objects obj1, obj2, obj3 from class  Student. Set rollno, name, mark1, mark2 for 3 students using setdata() and display  them using dispdata(). \n",
        "#(simple class and object with constructor)\n",
        "class student():\n",
        "  def __init__(self):\n",
        "    self.roll=None\n",
        "    self.name=None\n",
        "    self.m1=None\n",
        "    self.m2=None\n",
        "  def setdata(self,roll,name,m1,m2):\n",
        "    self.roll=roll\n",
        "    self.name=name\n",
        "    self.m1=m1\n",
        "    self.m2=m2\n",
        "  def dispdata(self):\n",
        "    print(\"roll_no = \",self.roll,\"name = \",self.name,\"marks1 = \",self.m1,\"marks2 = \",self.m2)\n",
        "\n",
        "obj1=student();\n",
        "obj1.setdata(1,'sai',65,80)\n",
        "\n",
        "obj2=student();\n",
        "obj2.setdata(3,'hari',60,75)\n",
        "obj3=student();\n",
        "obj3.setdata(2,'tilak',80,85)\n",
        "obj1.dispdata()\n",
        "obj2.dispdata()\n",
        "obj3.dispdata()\n"
      ],
      "execution_count": null,
      "outputs": [
        {
          "output_type": "stream",
          "text": [
            "roll_no =  1 name =  sai marks1 =  65 marks2 =  80\n",
            "roll_no =  3 name =  hari marks1 =  60 marks2 =  75\n",
            "roll_no =  2 name =  tilak marks1 =  80 marks2 =  85\n"
          ],
          "name": "stdout"
        }
      ]
    },
    {
      "cell_type": "code",
      "metadata": {
        "id": "Y09O1RRl2B8i",
        "colab_type": "code",
        "colab": {
          "base_uri": "https://localhost:8080/",
          "height": 225
        },
        "outputId": "9a4555ad-0592-4353-a796-9918dbd09055"
      },
      "source": [
        "#Create a parent class Person with constructor(name, idnumber), display() to display name and idnumber and child class Employee with constructor(name, idnumber salary, post) and display() to display name, idnumber, salary and post. Create object x from parent to pass name and idnumber as parameter and display them. Create objects a and b of Employee to pass name, idnumber, salary and post and display them (single inheritance)\n",
        "class Person(object):\n",
        "  def __init__(self,name,idnumber):\n",
        "    self.name=name\n",
        "    self.idnumber=idnumber\n",
        "  def display(self):\n",
        "    print('Person Name: %s' %(self.name))\n",
        "    print('Person idnumber: %s' %(self.idnumber))\n",
        "\n",
        "class Employee(Person):\n",
        "  def __init__(self,name,idnumber,salary,post):\n",
        "    self.name=name\n",
        "    self.idnumber=idnumber\n",
        "    self.salary=salary\n",
        "    self.post=post\n",
        "    \n",
        "\n",
        "  def __repr__(self):\n",
        "    return str(self.name+self.idnumber+self.salary+self.post)\n",
        "  def display(self):\n",
        "    super(Employee,self).display()\n",
        "    print('Employee Name: %s'%(self.name))\n",
        "    print('Employe idnumber: %s' %(self.idnumber))\n",
        "print(\"parent class\")\n",
        "c=Person('shri',5)\n",
        "c.display()\n",
        "print(\"child class\")\n",
        "a=Employee('sai',1,20000,'banglore')\n",
        "b=Employee('hari',2,15000,'chennai')\n",
        "a.display()\n",
        "b.display()\n"
      ],
      "execution_count": null,
      "outputs": [
        {
          "output_type": "stream",
          "text": [
            "parent class\n",
            "Person Name: shri\n",
            "Person idnumber: 5\n",
            "child class\n",
            "Person Name: sai\n",
            "Person idnumber: 1\n",
            "Employee Name: sai\n",
            "Employe idnumber: 1\n",
            "Person Name: hari\n",
            "Person idnumber: 2\n",
            "Employee Name: hari\n",
            "Employe idnumber: 2\n"
          ],
          "name": "stdout"
        }
      ]
    },
    {
      "cell_type": "code",
      "metadata": {
        "id": "F9rwS10NDlAA",
        "colab_type": "code",
        "colab": {
          "base_uri": "https://localhost:8080/",
          "height": 191
        },
        "outputId": "c9b320e3-75f5-45c7-a1ff-db8099a52cc1"
      },
      "source": [
        "#Create a parent class student in which a method getStudent() is defined to get rollno and name of the student. Create a child class called test in which a method getMarks() is defined to get maths and science marks. Create a grandchild class called marks in which display() is defined to display all the details rollno,name,maths marks, science marks and average marks (of science and maths) \n",
        "#(Multilevel inheritance problem) \n",
        "class Student:\n",
        "  def getStudent(self,rollno,name):\n",
        "    self.n = name\n",
        "    self.r = rollno\n",
        "\n",
        "class Test(Student):\n",
        "  def getMarks(self,maths,science):\n",
        "    self.m1 = maths\n",
        "    self.s = science\n",
        "\n",
        "class Marks(Test):\n",
        "  def display(self):\n",
        "    print(\"Name : {0}\\n RollNo : {1}\\nMaths marks : {2}\\nScience Marks : {3}\\nAverage : {4}\\n\".format(self.n,self.r,self.m1,self.s,(self.m1+self.s)/2))\n",
        "m = Marks()\n",
        "m.getStudent(input(\"Enter the rollno. : \"), input(\"Enter the name : \"))\n",
        "m.getMarks(int(input(\"Enter the Maths marks : \")),int(input(\"Enter the Science marks : \")))\n",
        "m.display()\n",
        "\n"
      ],
      "execution_count": 44,
      "outputs": [
        {
          "output_type": "stream",
          "text": [
            "Enter the rollno. : 3\n",
            "Enter the name : hari\n",
            "Enter the Maths marks : 80\n",
            "Enter the Science marks : 85\n",
            "Name : hari\n",
            " RollNo : 3\n",
            "Maths marks : 80\n",
            "Science Marks : 85\n",
            "Average : 82.5\n",
            "\n"
          ],
          "name": "stdout"
        }
      ]
    },
    {
      "cell_type": "code",
      "metadata": {
        "id": "ZBDFj4TKYbso",
        "colab_type": "code",
        "colab": {
          "base_uri": "https://localhost:8080/",
          "height": 156
        },
        "outputId": "c45ad986-3125-4aea-a2c8-614ab320969b"
      },
      "source": [
        "#Create classes India and USA . Each class has captial() , language() and currency() methods. They print information of capital, language and currency of the respective country (capital() in India class should print ‘New Delhi’ capital() in USA should print ‘Washington DC’ similarly for language() of India Hindi and English , language() of USA should print English. Similarly currency() should print Rupee for India and Dollar for USA using Polymorphism by creating two objects obj1 and obj2 for India and USA respectively. Print the all the information using for loop(Polymorphism problem)\n",
        "class India():\n",
        "  def __init__(self,capital,language,currency):\n",
        "    self.capital=capital\n",
        "    self.language=language\n",
        "    self.currency=currency\n",
        "  def capitale(self):\n",
        "    print(\"Capital = \",self.capital)\n",
        "  def lang(self):\n",
        "    print(\"Language = \",self.language)\n",
        "  def curr(self):\n",
        "    print(\"Currency = \",self.currency)\n",
        "\n",
        "\n",
        "  \n",
        "class USA():\n",
        "  def __init__(self,capital,language,currency):\n",
        "    self.capital=capital\n",
        "    self.language=language\n",
        "    self.currency=currency\n",
        "  def capitale(self):\n",
        "    print(\"Capital = \",self.capital)\n",
        "  def lang(self):\n",
        "    print(\"Language = \",self.language)\n",
        "  def curr(self):\n",
        "    print(\"Currency = \",self.currency)\n",
        "\n",
        "obj1=India(\"New Delhi\",\"Hindi and English\",\"Rupee\")\n",
        "print(\"India\")\n",
        "obj1.capitale()\n",
        "obj1.lang()\n",
        "obj1.curr()\n",
        "obj2=India(\"Washington DC\",\"Hindi and English\",\"Dollar\")\n",
        "print(\"USA\")\n",
        "obj2.capitale()\n",
        "obj2.lang()\n",
        "obj2.curr()"
      ],
      "execution_count": 39,
      "outputs": [
        {
          "output_type": "stream",
          "text": [
            "India\n",
            "Capital =  New Delhi\n",
            "Language =  Hindi and English\n",
            "Currency =  Rupee\n",
            "USA\n",
            "Capital =  Washington DC\n",
            "Language =  Hindi and English\n",
            "Currency =  Dollar\n"
          ],
          "name": "stdout"
        }
      ]
    }
  ]
}