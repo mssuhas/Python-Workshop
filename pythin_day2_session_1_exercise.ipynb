{
  "nbformat": 4,
  "nbformat_minor": 0,
  "metadata": {
    "colab": {
      "name": "pythin day2 session 1 exercise.ipynb",
      "provenance": [],
      "authorship_tag": "ABX9TyMs8IdCgXD5LJORi2EHxfX3",
      "include_colab_link": true
    },
    "kernelspec": {
      "name": "python3",
      "display_name": "Python 3"
    }
  },
  "cells": [
    {
      "cell_type": "markdown",
      "metadata": {
        "id": "view-in-github",
        "colab_type": "text"
      },
      "source": [
        "<a href=\"https://colab.research.google.com/github/mssuhas/Python-Workshop/blob/master/pythin_day2_session_1_exercise.ipynb\" target=\"_parent\"><img src=\"https://colab.research.google.com/assets/colab-badge.svg\" alt=\"Open In Colab\"/></a>"
      ]
    },
    {
      "cell_type": "code",
      "metadata": {
        "id": "riAeh1kDWVkB",
        "colab_type": "code",
        "colab": {
          "base_uri": "https://localhost:8080/",
          "height": 54
        },
        "outputId": "3abd1703-7537-49be-f929-92dc604c7e91"
      },
      "source": [
        "#print multiples of 3 upto 200 using a list \n",
        "a=[i for i in range(1,200) if((i%3)==0)]\n",
        "print(a)"
      ],
      "execution_count": null,
      "outputs": [
        {
          "output_type": "stream",
          "text": [
            "[3, 6, 9, 12, 15, 18, 21, 24, 27, 30, 33, 36, 39, 42, 45, 48, 51, 54, 57, 60, 63, 66, 69, 72, 75, 78, 81, 84, 87, 90, 93, 96, 99, 102, 105, 108, 111, 114, 117, 120, 123, 126, 129, 132, 135, 138, 141, 144, 147, 150, 153, 156, 159, 162, 165, 168, 171, 174, 177, 180, 183, 186, 189, 192, 195, 198]\n"
          ],
          "name": "stdout"
        }
      ]
    },
    {
      "cell_type": "code",
      "metadata": {
        "id": "8OR1jUOAYuNi",
        "colab_type": "code",
        "colab": {
          "base_uri": "https://localhost:8080/",
          "height": 54
        },
        "outputId": "fee339f0-0772-41cd-b941-f205d7bb6ca1"
      },
      "source": [
        "#print the nos only divisable by 5 and 7 between 1000 and 2000 using a list( both  inclusive)\n",
        "a=[i for i in range(1000,2000) if((i%5)==0 and (i%7)==0)]\n",
        "print(a)"
      ],
      "execution_count": null,
      "outputs": [
        {
          "output_type": "stream",
          "text": [
            "[1015, 1050, 1085, 1120, 1155, 1190, 1225, 1260, 1295, 1330, 1365, 1400, 1435, 1470, 1505, 1540, 1575, 1610, 1645, 1680, 1715, 1750, 1785, 1820, 1855, 1890, 1925, 1960, 1995]\n"
          ],
          "name": "stdout"
        }
      ]
    },
    {
      "cell_type": "code",
      "metadata": {
        "id": "C9-vyzCEZkGt",
        "colab_type": "code",
        "colab": {
          "base_uri": "https://localhost:8080/",
          "height": 121
        },
        "outputId": "9cf4fe3d-067e-471c-90ce-9bb4cc972853"
      },
      "source": [
        "#Add the n number of names in a list and print them alphabetically and reverse  alphabetically\n",
        "l=[input(\"Enter the names \") for i in range(int(input(\"enter the name = \")))]\n",
        "\n",
        "l.sort()\n",
        "print(f\"Alphabetical order {l}\")\n",
        "res=sorted(l,reverse=True)\n",
        "print(f\"Reverse Alphabetical order {res}\")"
      ],
      "execution_count": null,
      "outputs": [
        {
          "output_type": "stream",
          "text": [
            "enter the name = 3\n",
            "Enter the names suhas\n",
            "Enter the names hari\n",
            "Enter the names sai\n",
            "Alphabetical order ['hari', 'sai', 'suhas']\n",
            "Reverse Alphabetical order ['suhas', 'sai', 'hari']\n"
          ],
          "name": "stdout"
        }
      ]
    },
    {
      "cell_type": "code",
      "metadata": {
        "id": "iuMtKZ_gkgAa",
        "colab_type": "code",
        "colab": {
          "base_uri": "https://localhost:8080/",
          "height": 34
        },
        "outputId": "d0610845-b845-4223-b3b2-5d0168a6841f"
      },
      "source": [
        "#Print perfect squares and divisible by 5 between 500 and 1000 (both inclusive)  using list comprehension \n",
        "import math\n",
        "sq=[i for i in range(500,1000) if (math.sqrt(i)==int(math.sqrt(i)) and (i%5)==0)]\n",
        "print(sq)"
      ],
      "execution_count": null,
      "outputs": [
        {
          "output_type": "stream",
          "text": [
            "[625, 900]\n"
          ],
          "name": "stdout"
        }
      ]
    },
    {
      "cell_type": "code",
      "metadata": {
        "id": "GTgdaKvlo64k",
        "colab_type": "code",
        "colab": {
          "base_uri": "https://localhost:8080/",
          "height": 139
        },
        "outputId": "aff2a5a5-12c4-4a0b-a4cb-1e59c6299452"
      },
      "source": [
        "#Calculate the Average of the numbers in a List by getting the elements of list from  keyboard .\n",
        "l=[int(input(\"enter the no's\")) for i in range(int(input(\"enter the number of elements\")))]\n",
        "print(f\"average of the list is {sum(l)/len(l)}\" )"
      ],
      "execution_count": null,
      "outputs": [
        {
          "output_type": "stream",
          "text": [
            "enter the number of elements5\n",
            "enter the no's6\n",
            "enter the no's5\n",
            "enter the no's4\n",
            "enter the no's10\n",
            "enter the no's0\n",
            "average of the list is 5.0\n"
          ],
          "name": "stdout"
        }
      ]
    },
    {
      "cell_type": "code",
      "metadata": {
        "id": "06vXBP2qqKq6",
        "colab_type": "code",
        "colab": {
          "base_uri": "https://localhost:8080/",
          "height": 89
        },
        "outputId": "99ef4a2c-f22e-4d6e-b147-7eb99c9587cd"
      },
      "source": [
        "#Print lists of odd,even and multiples of 5 numbers from 1 to 1000 using list  comprehension \n",
        "l=[i for i in range(1,1000) if(i%2==0)]\n",
        "m=[i for i in range(1,1000) if(i%2!=0)]\n",
        "n=[i for i in range(1,1000) if(i%5==0)]\n",
        "print(f\"odd = {l}\\n even = {m}\\nmultiple of 5 = {n}\")"
      ],
      "execution_count": null,
      "outputs": [
        {
          "output_type": "stream",
          "text": [
            "odd = [2, 4, 6, 8, 10, 12, 14, 16, 18, 20, 22, 24, 26, 28, 30, 32, 34, 36, 38, 40, 42, 44, 46, 48, 50, 52, 54, 56, 58, 60, 62, 64, 66, 68, 70, 72, 74, 76, 78, 80, 82, 84, 86, 88, 90, 92, 94, 96, 98, 100, 102, 104, 106, 108, 110, 112, 114, 116, 118, 120, 122, 124, 126, 128, 130, 132, 134, 136, 138, 140, 142, 144, 146, 148, 150, 152, 154, 156, 158, 160, 162, 164, 166, 168, 170, 172, 174, 176, 178, 180, 182, 184, 186, 188, 190, 192, 194, 196, 198, 200, 202, 204, 206, 208, 210, 212, 214, 216, 218, 220, 222, 224, 226, 228, 230, 232, 234, 236, 238, 240, 242, 244, 246, 248, 250, 252, 254, 256, 258, 260, 262, 264, 266, 268, 270, 272, 274, 276, 278, 280, 282, 284, 286, 288, 290, 292, 294, 296, 298, 300, 302, 304, 306, 308, 310, 312, 314, 316, 318, 320, 322, 324, 326, 328, 330, 332, 334, 336, 338, 340, 342, 344, 346, 348, 350, 352, 354, 356, 358, 360, 362, 364, 366, 368, 370, 372, 374, 376, 378, 380, 382, 384, 386, 388, 390, 392, 394, 396, 398, 400, 402, 404, 406, 408, 410, 412, 414, 416, 418, 420, 422, 424, 426, 428, 430, 432, 434, 436, 438, 440, 442, 444, 446, 448, 450, 452, 454, 456, 458, 460, 462, 464, 466, 468, 470, 472, 474, 476, 478, 480, 482, 484, 486, 488, 490, 492, 494, 496, 498, 500, 502, 504, 506, 508, 510, 512, 514, 516, 518, 520, 522, 524, 526, 528, 530, 532, 534, 536, 538, 540, 542, 544, 546, 548, 550, 552, 554, 556, 558, 560, 562, 564, 566, 568, 570, 572, 574, 576, 578, 580, 582, 584, 586, 588, 590, 592, 594, 596, 598, 600, 602, 604, 606, 608, 610, 612, 614, 616, 618, 620, 622, 624, 626, 628, 630, 632, 634, 636, 638, 640, 642, 644, 646, 648, 650, 652, 654, 656, 658, 660, 662, 664, 666, 668, 670, 672, 674, 676, 678, 680, 682, 684, 686, 688, 690, 692, 694, 696, 698, 700, 702, 704, 706, 708, 710, 712, 714, 716, 718, 720, 722, 724, 726, 728, 730, 732, 734, 736, 738, 740, 742, 744, 746, 748, 750, 752, 754, 756, 758, 760, 762, 764, 766, 768, 770, 772, 774, 776, 778, 780, 782, 784, 786, 788, 790, 792, 794, 796, 798, 800, 802, 804, 806, 808, 810, 812, 814, 816, 818, 820, 822, 824, 826, 828, 830, 832, 834, 836, 838, 840, 842, 844, 846, 848, 850, 852, 854, 856, 858, 860, 862, 864, 866, 868, 870, 872, 874, 876, 878, 880, 882, 884, 886, 888, 890, 892, 894, 896, 898, 900, 902, 904, 906, 908, 910, 912, 914, 916, 918, 920, 922, 924, 926, 928, 930, 932, 934, 936, 938, 940, 942, 944, 946, 948, 950, 952, 954, 956, 958, 960, 962, 964, 966, 968, 970, 972, 974, 976, 978, 980, 982, 984, 986, 988, 990, 992, 994, 996, 998]\n",
            " even = [1, 3, 5, 7, 9, 11, 13, 15, 17, 19, 21, 23, 25, 27, 29, 31, 33, 35, 37, 39, 41, 43, 45, 47, 49, 51, 53, 55, 57, 59, 61, 63, 65, 67, 69, 71, 73, 75, 77, 79, 81, 83, 85, 87, 89, 91, 93, 95, 97, 99, 101, 103, 105, 107, 109, 111, 113, 115, 117, 119, 121, 123, 125, 127, 129, 131, 133, 135, 137, 139, 141, 143, 145, 147, 149, 151, 153, 155, 157, 159, 161, 163, 165, 167, 169, 171, 173, 175, 177, 179, 181, 183, 185, 187, 189, 191, 193, 195, 197, 199, 201, 203, 205, 207, 209, 211, 213, 215, 217, 219, 221, 223, 225, 227, 229, 231, 233, 235, 237, 239, 241, 243, 245, 247, 249, 251, 253, 255, 257, 259, 261, 263, 265, 267, 269, 271, 273, 275, 277, 279, 281, 283, 285, 287, 289, 291, 293, 295, 297, 299, 301, 303, 305, 307, 309, 311, 313, 315, 317, 319, 321, 323, 325, 327, 329, 331, 333, 335, 337, 339, 341, 343, 345, 347, 349, 351, 353, 355, 357, 359, 361, 363, 365, 367, 369, 371, 373, 375, 377, 379, 381, 383, 385, 387, 389, 391, 393, 395, 397, 399, 401, 403, 405, 407, 409, 411, 413, 415, 417, 419, 421, 423, 425, 427, 429, 431, 433, 435, 437, 439, 441, 443, 445, 447, 449, 451, 453, 455, 457, 459, 461, 463, 465, 467, 469, 471, 473, 475, 477, 479, 481, 483, 485, 487, 489, 491, 493, 495, 497, 499, 501, 503, 505, 507, 509, 511, 513, 515, 517, 519, 521, 523, 525, 527, 529, 531, 533, 535, 537, 539, 541, 543, 545, 547, 549, 551, 553, 555, 557, 559, 561, 563, 565, 567, 569, 571, 573, 575, 577, 579, 581, 583, 585, 587, 589, 591, 593, 595, 597, 599, 601, 603, 605, 607, 609, 611, 613, 615, 617, 619, 621, 623, 625, 627, 629, 631, 633, 635, 637, 639, 641, 643, 645, 647, 649, 651, 653, 655, 657, 659, 661, 663, 665, 667, 669, 671, 673, 675, 677, 679, 681, 683, 685, 687, 689, 691, 693, 695, 697, 699, 701, 703, 705, 707, 709, 711, 713, 715, 717, 719, 721, 723, 725, 727, 729, 731, 733, 735, 737, 739, 741, 743, 745, 747, 749, 751, 753, 755, 757, 759, 761, 763, 765, 767, 769, 771, 773, 775, 777, 779, 781, 783, 785, 787, 789, 791, 793, 795, 797, 799, 801, 803, 805, 807, 809, 811, 813, 815, 817, 819, 821, 823, 825, 827, 829, 831, 833, 835, 837, 839, 841, 843, 845, 847, 849, 851, 853, 855, 857, 859, 861, 863, 865, 867, 869, 871, 873, 875, 877, 879, 881, 883, 885, 887, 889, 891, 893, 895, 897, 899, 901, 903, 905, 907, 909, 911, 913, 915, 917, 919, 921, 923, 925, 927, 929, 931, 933, 935, 937, 939, 941, 943, 945, 947, 949, 951, 953, 955, 957, 959, 961, 963, 965, 967, 969, 971, 973, 975, 977, 979, 981, 983, 985, 987, 989, 991, 993, 995, 997, 999]\n",
            "multiple of 5 = [5, 10, 15, 20, 25, 30, 35, 40, 45, 50, 55, 60, 65, 70, 75, 80, 85, 90, 95, 100, 105, 110, 115, 120, 125, 130, 135, 140, 145, 150, 155, 160, 165, 170, 175, 180, 185, 190, 195, 200, 205, 210, 215, 220, 225, 230, 235, 240, 245, 250, 255, 260, 265, 270, 275, 280, 285, 290, 295, 300, 305, 310, 315, 320, 325, 330, 335, 340, 345, 350, 355, 360, 365, 370, 375, 380, 385, 390, 395, 400, 405, 410, 415, 420, 425, 430, 435, 440, 445, 450, 455, 460, 465, 470, 475, 480, 485, 490, 495, 500, 505, 510, 515, 520, 525, 530, 535, 540, 545, 550, 555, 560, 565, 570, 575, 580, 585, 590, 595, 600, 605, 610, 615, 620, 625, 630, 635, 640, 645, 650, 655, 660, 665, 670, 675, 680, 685, 690, 695, 700, 705, 710, 715, 720, 725, 730, 735, 740, 745, 750, 755, 760, 765, 770, 775, 780, 785, 790, 795, 800, 805, 810, 815, 820, 825, 830, 835, 840, 845, 850, 855, 860, 865, 870, 875, 880, 885, 890, 895, 900, 905, 910, 915, 920, 925, 930, 935, 940, 945, 950, 955, 960, 965, 970, 975, 980, 985, 990, 995]\n"
          ],
          "name": "stdout"
        }
      ]
    },
    {
      "cell_type": "markdown",
      "metadata": {
        "id": "pIkvKAJyrtcK",
        "colab_type": "text"
      },
      "source": [
        "**TUPLES**"
      ]
    },
    {
      "cell_type": "code",
      "metadata": {
        "id": "a8JQOE-yrxI5",
        "colab_type": "code",
        "colab": {
          "base_uri": "https://localhost:8080/",
          "height": 52
        },
        "outputId": "0e1481c9-f53f-4bba-af63-b280d6b363dd"
      },
      "source": [
        "#Python Program to Create a List of Tuples with the First Element as the Number and Second  Element as the Square of the Number  \n",
        "l=[(i,i*i) for i in range(1,int(input(\"enter the no of elements = \")))]\n",
        "print(l)"
      ],
      "execution_count": 42,
      "outputs": [
        {
          "output_type": "stream",
          "text": [
            "enter the no of elements = 5\n",
            "[(1, 1), (2, 4), (3, 9), (4, 16)]\n"
          ],
          "name": "stdout"
        }
      ]
    },
    {
      "cell_type": "code",
      "metadata": {
        "id": "YIYePhLgr6wt",
        "colab_type": "code",
        "colab": {
          "base_uri": "https://localhost:8080/",
          "height": 139
        },
        "outputId": "96c23063-9d53-4ba2-81f3-1394c0e7cbbb"
      },
      "source": [
        "#Write python program to have a list of words to sort them from shortest to longest using list of  tuples \n",
        "l=[input(\"enter the names \") for i in range(int(input(\"enter the total no of names = \")))]\n",
        "res=list(sorted(l,key=len))\n",
        "print(res)"
      ],
      "execution_count": 48,
      "outputs": [
        {
          "output_type": "stream",
          "text": [
            "enter the total no of names = 5\n",
            "enter the names tell\n",
            "enter the names bell\n",
            "enter the names google\n",
            "enter the names sell\n",
            "enter the names ted\n",
            "['ted', 'tell', 'bell', 'sell', 'google']\n"
          ],
          "name": "stdout"
        }
      ]
    },
    {
      "cell_type": "code",
      "metadata": {
        "id": "P5i6XRtivNid",
        "colab_type": "code",
        "colab": {
          "base_uri": "https://localhost:8080/",
          "height": 208
        },
        "outputId": "3148220f-71d1-4033-8642-41584306e5a1"
      },
      "source": [
        "#Write python program to get a list of tuples of Rollno,Name for 5 students through keyboard and  sort them Rollno wise ascending order\n",
        "l=[(int(input(\"enter the roll no \")),input(\"enter the student name \")) for i in range(5)]\n",
        "l.sort()\n",
        "print(l)"
      ],
      "execution_count": 51,
      "outputs": [
        {
          "output_type": "stream",
          "text": [
            "enter the roll no 1\n",
            "enter the student name rohan\n",
            "enter the roll no 55\n",
            "enter the student name rakesh\n",
            "enter the roll no 13\n",
            "enter the student name sai\n",
            "enter the roll no 4\n",
            "enter the student name shri\n",
            "enter the roll no 12\n",
            "enter the student name rahul\n",
            "[(1, 'rohan'), (4, 'shri'), (12, 'rahul'), (13, 'sai'), (55, 'rakesh')]\n"
          ],
          "name": "stdout"
        }
      ]
    },
    {
      "cell_type": "code",
      "metadata": {
        "id": "XjHHXMvQwer-",
        "colab_type": "code",
        "colab": {
          "base_uri": "https://localhost:8080/",
          "height": 208
        },
        "outputId": "114b6914-33af-4066-ac62-991cce3a4256"
      },
      "source": [
        "#Write python program to get a list of tuples of Rollno,Name for 5 students through keyboard and  sort them by Rollno wise descending order\n",
        "l=[(int(input(\"enter the roll no \")),input(\"enter the student name \")) for i in range(5)]\n",
        "l.sort(reverse=True)\n",
        "print(l)"
      ],
      "execution_count": 54,
      "outputs": [
        {
          "output_type": "stream",
          "text": [
            "enter the roll no 1\n",
            "enter the student name rohan\n",
            "enter the roll no 55\n",
            "enter the student name rakesh\n",
            "enter the roll no 13\n",
            "enter the student name sai\n",
            "enter the roll no 4\n",
            "enter the student name shri\n",
            "enter the roll no 12\n",
            "enter the student name rahul\n",
            "[(55, 'rakesh'), (13, 'sai'), (12, 'rahul'), (4, 'shri'), (1, 'rohan')]\n"
          ],
          "name": "stdout"
        }
      ]
    },
    {
      "cell_type": "code",
      "metadata": {
        "id": "jgVtnPNSw8zO",
        "colab_type": "code",
        "colab": {
          "base_uri": "https://localhost:8080/",
          "height": 208
        },
        "outputId": "66ee5f7a-bfe9-4197-cefe-381bdcd26c55"
      },
      "source": [
        "#Write python program to get a list of tuples of Rollno,Name for 5 students through keyboard and  sort them by Name wise ascending order\n",
        "import operator\n",
        "l=[(int(input(\"enter the roll no \")),input(\"enter the student name \")) for i in range(5)]\n",
        "res=sorted(l,key=operator.itemgetter(1),reverse=False)\n",
        "print(res)"
      ],
      "execution_count": 58,
      "outputs": [
        {
          "output_type": "stream",
          "text": [
            "enter the roll no 1\n",
            "enter the student name rohan\n",
            "enter the roll no 55\n",
            "enter the student name rakesh\n",
            "enter the roll no 13\n",
            "enter the student name sai\n",
            "enter the roll no 4\n",
            "enter the student name shri\n",
            "enter the roll no 12\n",
            "enter the student name rahul\n",
            "[(12, 'rahul'), (55, 'rakesh'), (1, 'rohan'), (13, 'sai'), (4, 'shri')]\n"
          ],
          "name": "stdout"
        }
      ]
    },
    {
      "cell_type": "code",
      "metadata": {
        "id": "smV46KwtyoTG",
        "colab_type": "code",
        "colab": {
          "base_uri": "https://localhost:8080/",
          "height": 208
        },
        "outputId": "d7c425ed-d678-4794-950f-ef1fc7f0ad9a"
      },
      "source": [
        "#Write python program to get a list of tuples of Rollno,Name for 5 students through keyboard and  sort them by Name wise descending order\n",
        "import operator\n",
        "l=[(int(input(\"enter the roll no \")),input(\"enter the student name \")) for i in range(5)]\n",
        "res=sorted(l,key=operator.itemgetter(1),reverse=True)\n",
        "print(res)"
      ],
      "execution_count": 59,
      "outputs": [
        {
          "output_type": "stream",
          "text": [
            "enter the roll no 1\n",
            "enter the student name rohan\n",
            "enter the roll no 55\n",
            "enter the student name rakesh\n",
            "enter the roll no 13\n",
            "enter the student name sai\n",
            "enter the roll no 4\n",
            "enter the student name shri\n",
            "enter the roll no 12\n",
            "enter the student name rahul\n",
            "[(4, 'shri'), (13, 'sai'), (1, 'rohan'), (55, 'rakesh'), (12, 'rahul')]\n"
          ],
          "name": "stdout"
        }
      ]
    }
  ]
}