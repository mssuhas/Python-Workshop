{
  "nbformat": 4,
  "nbformat_minor": 0,
  "metadata": {
    "colab": {
      "name": "python day 3 session1 example.ipynb",
      "provenance": [],
      "authorship_tag": "ABX9TyNAYbCBs6q9bSjV0usL36nh",
      "include_colab_link": true
    },
    "kernelspec": {
      "name": "python3",
      "display_name": "Python 3"
    }
  },
  "cells": [
    {
      "cell_type": "markdown",
      "metadata": {
        "id": "view-in-github",
        "colab_type": "text"
      },
      "source": [
        "<a href=\"https://colab.research.google.com/github/mssuhas/Python-Workshop/blob/master/python_day_3_session1_example.ipynb\" target=\"_parent\"><img src=\"https://colab.research.google.com/assets/colab-badge.svg\" alt=\"Open In Colab\"/></a>"
      ]
    },
    {
      "cell_type": "code",
      "metadata": {
        "id": "7iovLXItloFZ",
        "colab_type": "code",
        "colab": {
          "base_uri": "https://localhost:8080/",
          "height": 69
        },
        "outputId": "b2bf5c7a-4445-4aa3-b6c0-b617569e275f"
      },
      "source": [
        "#Python Program to Create a Class and Compute the Area and the Perimeter of the Circle\n",
        "import math\n",
        "class circle():\n",
        "  def __init__(self,radius):\n",
        "    self.radius=radius\n",
        "  def area(self):\n",
        "    return math.pi*(self.radius**2)\n",
        "  def perimeter(self):\n",
        "    return 2*math.pi*self.radius\n",
        "r=int(input(\"Enter radius of circle: \"))\n",
        "obj=circle(r)\n",
        "print(\"Area of circle:\",round(obj.area(),2))\n",
        "print(\"Perimeter of circle:\",round(obj.perimeter(),2))"
      ],
      "execution_count": 2,
      "outputs": [
        {
          "output_type": "stream",
          "text": [
            "Enter radius of circle: 4\n",
            "Area of circle: 50.27\n",
            "Perimeter of circle: 25.13\n"
          ],
          "name": "stdout"
        }
      ]
    },
    {
      "cell_type": "code",
      "metadata": {
        "id": "N4LqhenXmJgZ",
        "colab_type": "code",
        "colab": {
          "base_uri": "https://localhost:8080/",
          "height": 69
        },
        "outputId": "a5a986a9-945a-469b-f89f-c5fc5707a9a8"
      },
      "source": [
        "#Creating simple class and objects for counting the number of employees\n",
        "#defining class \n",
        "class Employee: \n",
        " 'Common base class for all employees' \n",
        " empCount = 0 \n",
        " #defining the constructor \n",
        " def __init__(self, name, salary): \n",
        "  self.name = name \n",
        "  self.salary = salary \n",
        "  Employee.empCount += 1 \n",
        "  \n",
        " #defining the member functions \n",
        " def displayCount(self): \n",
        "  print(\"Total Employee %d\" % Employee.empCount) \n",
        " def displayEmployee(self): \n",
        "  print (\"Name : \", self.name, \", Salary: \", self.salary) \n",
        "  \n",
        "\"This would create first object of Employee class\" \n",
        "emp1 = Employee(\"Zara\", 2000) \n",
        "\"This would create second object of Employee class\" \n",
        "emp2 = Employee(\"Manni\", 5000)\n",
        "emp1.displayEmployee() \n",
        "emp2.displayEmployee() \n",
        "print(\"Total Employee %d\" % Employee.empCount) \n"
      ],
      "execution_count": 7,
      "outputs": [
        {
          "output_type": "stream",
          "text": [
            "Name :  Zara , Salary:  2000\n",
            "Name :  Manni , Salary:  5000\n",
            "Total Employee 2\n"
          ],
          "name": "stdout"
        }
      ]
    },
    {
      "cell_type": "code",
      "metadata": {
        "id": "TPOqE3jfoSHO",
        "colab_type": "code",
        "colab": {
          "base_uri": "https://localhost:8080/",
          "height": 52
        },
        "outputId": "da3395db-693d-40c7-e607-5197e8b8f47c"
      },
      "source": [
        "#Inheritance in Python \n",
        "# A Python program to demonstrate inheritance \n",
        "class Person(object):  \n",
        "# Constructor  \n",
        "  def __init__(self, name):  \n",
        "    self.name = name  \n",
        "# To get name  \n",
        "  def getName(self):  \n",
        "    return self.name  \n",
        "# To check if this person is an employee  \n",
        "  def isEmployee(self):  \n",
        "    return False \n",
        " # Inherited or Subclass (Note Person in bracket)  \n",
        "class Employee(Person):  \n",
        "# Here we return true  \n",
        "  def isEmployee(self):  \n",
        "    return True \n",
        " # Driver code  \n",
        "  emp = Person(\"Ram\") # An Object of Person \n",
        "  print(emp.getName(),emp.isEmployee())\n",
        "  emp = Employee(\"Raj\") # An Object of Employee  \n",
        "  print(emp.getName(),emp.isEmployee())\n"
      ],
      "execution_count": 21,
      "outputs": [
        {
          "output_type": "stream",
          "text": [
            "Ram False\n",
            "Raj True\n"
          ],
          "name": "stdout"
        }
      ]
    },
    {
      "cell_type": "code",
      "metadata": {
        "id": "tnYFb2dgqYOn",
        "colab_type": "code",
        "colab": {
          "base_uri": "https://localhost:8080/",
          "height": 86
        },
        "outputId": "b7dc1294-7a29-4987-ba0c-8f6b3b5ef738"
      },
      "source": [
        "#Encapsulation examples \n",
        "# Accessing public members of the class \n",
        "class Person: \n",
        "  def __init__(self, name, age=0): \n",
        "    self.name = name \n",
        "    self.age = age \n",
        "  def display(self):\n",
        "    print(self.name) \n",
        "    print(self.age) \n",
        "person = Person('Dev', 30) \n",
        "#accessing using class method \n",
        "person.display() \n",
        "#accessing directly from outside \n",
        "print(person.name) \n",
        "print(person.age)\n"
      ],
      "execution_count": 30,
      "outputs": [
        {
          "output_type": "stream",
          "text": [
            "Dev\n",
            "30\n",
            "Dev\n",
            "30\n"
          ],
          "name": "stdout"
        }
      ]
    },
    {
      "cell_type": "code",
      "metadata": {
        "id": "XuOwy4ecr2iM",
        "colab_type": "code",
        "colab": {
          "base_uri": "https://localhost:8080/",
          "height": 271
        },
        "outputId": "6e4ab7bd-c72b-440e-aa54-b157e52546af"
      },
      "source": [
        "## Accessing private members of the class using double underscore \n",
        "class Person: \n",
        " def __init__(self, name, age=0):\n",
        "   self.name = name \n",
        "   self.__age = age \n",
        " def display(self):\n",
        "   print(self.name)\n",
        "   print(self.__age) \n",
        "person = Person('Dev', 30)\n",
        "#accessing using class method \n",
        "person.display() \n",
        "#accessing directly from outside \n",
        "print('Trying to access variables from outside the class ') \n",
        "print(person.name) \n",
        "print(person.age)\n"
      ],
      "execution_count": 42,
      "outputs": [
        {
          "output_type": "stream",
          "text": [
            "Dev\n",
            "30\n",
            "Trying to access variables from outside the class \n",
            "Dev\n"
          ],
          "name": "stdout"
        },
        {
          "output_type": "error",
          "ename": "AttributeError",
          "evalue": "ignored",
          "traceback": [
            "\u001b[0;31m---------------------------------------------------------------------------\u001b[0m",
            "\u001b[0;31mAttributeError\u001b[0m                            Traceback (most recent call last)",
            "\u001b[0;32m<ipython-input-42-8b7ff9b69257>\u001b[0m in \u001b[0;36m<module>\u001b[0;34m()\u001b[0m\n\u001b[1;32m     13\u001b[0m \u001b[0mprint\u001b[0m\u001b[0;34m(\u001b[0m\u001b[0;34m'Trying to access variables from outside the class '\u001b[0m\u001b[0;34m)\u001b[0m\u001b[0;34m\u001b[0m\u001b[0;34m\u001b[0m\u001b[0m\n\u001b[1;32m     14\u001b[0m \u001b[0mprint\u001b[0m\u001b[0;34m(\u001b[0m\u001b[0mperson\u001b[0m\u001b[0;34m.\u001b[0m\u001b[0mname\u001b[0m\u001b[0;34m)\u001b[0m\u001b[0;34m\u001b[0m\u001b[0;34m\u001b[0m\u001b[0m\n\u001b[0;32m---> 15\u001b[0;31m \u001b[0mprint\u001b[0m\u001b[0;34m(\u001b[0m\u001b[0mperson\u001b[0m\u001b[0;34m.\u001b[0m\u001b[0mage\u001b[0m\u001b[0;34m)\u001b[0m\u001b[0;34m\u001b[0m\u001b[0;34m\u001b[0m\u001b[0m\n\u001b[0m",
            "\u001b[0;31mAttributeError\u001b[0m: 'Person' object has no attribute 'age'"
          ]
        }
      ]
    },
    {
      "cell_type": "code",
      "metadata": {
        "id": "M3g4glGRuYnQ",
        "colab_type": "code",
        "colab": {
          "base_uri": "https://localhost:8080/",
          "height": 69
        },
        "outputId": "b79f6732-c04c-4c50-dbae-e2c68c701469"
      },
      "source": [
        "#Using Getter and Setter methods to access private variables \n",
        "class Person: \n",
        "  def __init__(self, name, age=0): \n",
        "    self.name = name \n",
        "    self.__age = age \n",
        "  def display(self): \n",
        "    print(self.name) \n",
        "    print(self.__age) \n",
        "  def getAge(self): \n",
        "    print(self.__age) \n",
        "  def setAge(self, age): \n",
        "    self.__age = age \n",
        "person = Person('Dev', 30) \n",
        "#accessing using class method \n",
        "person.display() \n",
        "#changing age using setter \n",
        "person.setAge(35) \n",
        "person.getAge() "
      ],
      "execution_count": 34,
      "outputs": [
        {
          "output_type": "stream",
          "text": [
            "Dev\n",
            "30\n",
            "35\n"
          ],
          "name": "stdout"
        }
      ]
    },
    {
      "cell_type": "code",
      "metadata": {
        "id": "HyJk3HKCuohv",
        "colab_type": "code",
        "colab": {
          "base_uri": "https://localhost:8080/",
          "height": 69
        },
        "outputId": "f042681b-8151-436f-f76c-4bd8fec48bb6"
      },
      "source": [
        "# Example of hybrid inheritance (multilevel and multiple inheritance) \n",
        "class Family: \n",
        " def show_family(self): \n",
        "  print(\"This is our family:\") \n",
        "# Father class inherited from Family\n",
        "class Father(Family): \n",
        " fathername = \"\" \n",
        " def show_father(self): \n",
        "  print(self.fathername) \n",
        "# Mother class inherited from Family \n",
        "class Mother(Family): \n",
        " mothername = \"\" \n",
        " def show_mother(self): \n",
        "  print(self.mothername) \n",
        "# Son class inherited from Father and Mother classes \n",
        "class Son(Father, Mother): \n",
        " def show_parent(self): \n",
        "  print(\"Father :\", self.fathername) \n",
        "  print(\"Mother :\", self.mothername) \n",
        "s1 = Son() # Object of Son class \n",
        "s1.fathername = \"Mark\" \n",
        "s1.mothername = \"Sonia\" \n",
        "s1.show_family() \n",
        "s1.show_parent()\n"
      ],
      "execution_count": 37,
      "outputs": [
        {
          "output_type": "stream",
          "text": [
            "This is our family:\n",
            "Father : Mark\n",
            "Mother : Sonia\n"
          ],
          "name": "stdout"
        }
      ]
    },
    {
      "cell_type": "code",
      "metadata": {
        "id": "-OsHC305u2l_",
        "colab_type": "code",
        "colab": {
          "base_uri": "https://localhost:8080/",
          "height": 781
        },
        "outputId": "35bb2ab9-deba-4164-b605-a161309128f7"
      },
      "source": [
        "#Python Program to Create a Class which Performs Basic Calculator Operations \n",
        "class cal(): \n",
        " def __init__(self,a,b): \n",
        "  self.a=a \n",
        "  self.b=b \n",
        " def add(self): \n",
        "  return self.a+self.b \n",
        " def mul(self): \n",
        "  return self.a*self.b \n",
        " def div(self): \n",
        "  return self.a/self.b \n",
        " def sub(self): \n",
        "  return self.a-self.b \n",
        "a=int(input(\"Enter first number: \")) \n",
        "b=int(input(\"Enter second number: \")) \n",
        "obj=cal(a,b) \n",
        "choice=1 \n",
        "while choice!=0: \n",
        " print(\"0. Exit\") \n",
        " print(\"1. Add\") \n",
        " print(\"2. Subtraction\") \n",
        " print(\"3. Multiplication\") \n",
        " print(\"4. Division\") \n",
        " choice=int(input(\"Enter choice: \")) \n",
        " if choice==1:\n",
        "  print(\"Result: \",obj.add()) \n",
        " elif choice==2: \n",
        "  print(\"Result: \",obj.sub()) \n",
        " elif choice==3: \n",
        "  print(\"Result: \",obj.mul()) \n",
        " elif choice==4: \n",
        "  print(\"Result: \",round(obj.div(),2)) \n",
        " elif choice==0: \n",
        "  print(\"Exiting!\") \n",
        " else: \n",
        "  print(\"Invalid choice!!\") \n"
      ],
      "execution_count": 39,
      "outputs": [
        {
          "output_type": "stream",
          "text": [
            "Enter first number: 3\n",
            "Enter second number: 6\n",
            "0. Exit\n",
            "1. Add\n",
            "2. Subtraction\n",
            "3. Multiplication\n",
            "4. Division\n",
            "Enter choice: 1\n",
            "Result:  9\n",
            "0. Exit\n",
            "1. Add\n",
            "2. Subtraction\n",
            "3. Multiplication\n",
            "4. Division\n",
            "Enter choice: 2\n",
            "Result:  -3\n",
            "0. Exit\n",
            "1. Add\n",
            "2. Subtraction\n",
            "3. Multiplication\n",
            "4. Division\n",
            "Enter choice: 3\n",
            "Result:  18\n",
            "0. Exit\n",
            "1. Add\n",
            "2. Subtraction\n",
            "3. Multiplication\n",
            "4. Division\n",
            "Enter choice: 4\n",
            "Result:  0.5\n",
            "0. Exit\n",
            "1. Add\n",
            "2. Subtraction\n",
            "3. Multiplication\n",
            "4. Division\n",
            "Enter choice: 5\n",
            "Invalid choice!!\n",
            "0. Exit\n",
            "1. Add\n",
            "2. Subtraction\n",
            "3. Multiplication\n",
            "4. Division\n",
            "Enter choice: 0\n",
            "Exiting!\n"
          ],
          "name": "stdout"
        }
      ]
    },
    {
      "cell_type": "code",
      "metadata": {
        "id": "xSV-QJ8Yva9g",
        "colab_type": "code",
        "colab": {
          "base_uri": "https://localhost:8080/",
          "height": 955
        },
        "outputId": "57a1f82b-45a8-4347-d148-225f9228e918"
      },
      "source": [
        "# Python Program to Append, Delete and Display Elements of a List Using Classes \n",
        "class check():\n",
        "  def __init__(self): \n",
        "    self.n=[] \n",
        "  def add(self,a): \n",
        "    self.n.append(a) \n",
        "  def remove(self,b): \n",
        "    self.n.remove(b) \n",
        "  def dis(self): \n",
        "    return (self.n) \n",
        "obj=check() \n",
        "choice=1 \n",
        "while choice!=0: \n",
        " print(\"0. Exit\") \n",
        " print(\"1. Add\") \n",
        " print(\"2. Delete\") \n",
        " print(\"3. Display\") \n",
        " choice=int(input(\"Enter choice: \")) \n",
        " if choice==1: \n",
        "  n=int(input(\"Enter number to append: \")) \n",
        "  obj.add(n) \n",
        "  print(\"List: \",obj.dis()) \n",
        " elif choice==2: \n",
        "  n=int(input(\"Enter number to remove: \")) \n",
        "  obj.remove(n) \n",
        "  print(\"List: \",obj.dis()) \n",
        " elif choice==3: \n",
        "  print(\"List: \",obj.dis()) \n",
        " elif choice==0: \n",
        "  print(\"Exiting!\") \n",
        " else: \n",
        "  print(\"Invalid choice!!\")\n"
      ],
      "execution_count": 44,
      "outputs": [
        {
          "output_type": "stream",
          "text": [
            "0. Exit\n",
            "1. Add\n",
            "2. Delete\n",
            "3. Display\n",
            "Enter choice: 1\n",
            "Enter number to append: 1\n",
            "List:  [1]\n",
            "0. Exit\n",
            "1. Add\n",
            "2. Delete\n",
            "3. Display\n",
            "Enter choice: 1\n",
            "Enter number to append: 4\n",
            "List:  [1, 4]\n",
            "0. Exit\n",
            "1. Add\n",
            "2. Delete\n",
            "3. Display\n",
            "Enter choice: 1\n",
            "Enter number to append: 2\n",
            "List:  [1, 4, 2]\n",
            "0. Exit\n",
            "1. Add\n",
            "2. Delete\n",
            "3. Display\n",
            "Enter choice: 1\n",
            "Enter number to append: 6\n",
            "List:  [1, 4, 2, 6]\n",
            "0. Exit\n",
            "1. Add\n",
            "2. Delete\n",
            "3. Display\n",
            "Enter choice: 2\n",
            "Enter number to remove: 4\n",
            "List:  [1, 2, 6]\n",
            "0. Exit\n",
            "1. Add\n",
            "2. Delete\n",
            "3. Display\n",
            "Enter choice: 3\n",
            "List:  [1, 2, 6]\n",
            "0. Exit\n",
            "1. Add\n",
            "2. Delete\n",
            "3. Display\n",
            "Enter choice: 1\n",
            "Enter number to append: 7\n",
            "List:  [1, 2, 6, 7]\n",
            "0. Exit\n",
            "1. Add\n",
            "2. Delete\n",
            "3. Display\n",
            "Enter choice: 0\n",
            "Exiting!\n"
          ],
          "name": "stdout"
        }
      ]
    },
    {
      "cell_type": "code",
      "metadata": {
        "id": "npQsTUcJxKh7",
        "colab_type": "code",
        "colab": {
          "base_uri": "https://localhost:8080/",
          "height": 139
        },
        "outputId": "22bda9dd-9851-4e57-f8df-713b22578493"
      },
      "source": [
        "# linked list using class \n",
        "class Node:\n",
        "  def __init__(self, data): \n",
        "    self.data = data \n",
        "    self.next = None \n",
        "class LinkedList:\n",
        "  def __init__(self): \n",
        "    self.head = None \n",
        "    self.last_node = None \n",
        "  def append(self, data): \n",
        "    if self.last_node is None: \n",
        "      self.head = Node(data) \n",
        "      self.last_node = self.head \n",
        "    else: \n",
        "      self.last_node.next = Node(data) \n",
        "      self.last_node = self.last_node.next \n",
        "  def display(self): \n",
        "    current = self.head \n",
        "    while current is not None: \n",
        "      print(current.data, end = ' ') \n",
        "      current = current.next \n",
        "a_llist = LinkedList() \n",
        "n = int(input('How many elements would you like to add? ')) \n",
        "for i in range(n): \n",
        " data = int(input('Enter data item: ')) \n",
        " a_llist.append(data) \n",
        "print('The linked list: ', end = '') \n",
        "a_llist.display()\n"
      ],
      "execution_count": 46,
      "outputs": [
        {
          "output_type": "stream",
          "text": [
            "How many elements would you like to add? 5\n",
            "Enter data item: 5\n",
            "Enter data item: 3\n",
            "Enter data item: 7\n",
            "Enter data item: 1\n",
            "Enter data item: 8\n",
            "The linked list: 5 3 7 1 8 "
          ],
          "name": "stdout"
        }
      ]
    },
    {
      "cell_type": "code",
      "metadata": {
        "id": "164IUPs3yvks",
        "colab_type": "code",
        "colab": {
          "base_uri": "https://localhost:8080/",
          "height": 104
        },
        "outputId": "ef48f72d-5cfb-47f1-a1a2-31a40b2231c0"
      },
      "source": [
        "# operator overloading example program \n",
        "class Vector:\n",
        "  def __init__(self, a, b):\n",
        "    self.a = a \n",
        "    self.b = b \n",
        "  def __str__(self):\n",
        "    return 'Vector (%d, %d)' % (self.a, self.b) \n",
        "  \n",
        "  def __add__(self,other): \n",
        "    return Vector(self.a + other.a, self.b + other.b)\n",
        "  def __sub__(self,other): \n",
        "    return Vector(self.a - other.a, self.b - other.b)\n",
        "  def __mul__(self,other): \n",
        "    return Vector(self.a * other.a, self.b * other.b)\n",
        "  def __truediv__(self,other): \n",
        "    return Vector(float(self.a) /other.a, float(self.b) / other.b)\n",
        "  def __floordiv__(self,other):\n",
        "    return Vector(float(self.a) //other.a, float(self.b) //other.b) \n",
        "  \n",
        "v1 = Vector(5,10) \n",
        "v2 = Vector(2,-2) \n",
        "print (v1 + v2) \n",
        "print (v1 - v2) \n",
        "print (v1 * v2) \n",
        "print (v1 / v2) \n",
        "print (v1 // v2) \n"
      ],
      "execution_count": 51,
      "outputs": [
        {
          "output_type": "stream",
          "text": [
            "Vector (7, 8)\n",
            "Vector (3, 12)\n",
            "Vector (10, -20)\n",
            "Vector (2, -5)\n",
            "Vector (2, -5)\n"
          ],
          "name": "stdout"
        }
      ]
    }
  ]
}