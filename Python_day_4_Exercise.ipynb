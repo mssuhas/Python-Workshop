{
  "nbformat": 4,
  "nbformat_minor": 0,
  "metadata": {
    "colab": {
      "name": "Python day 4 Exercise.ipynb",
      "provenance": [],
      "authorship_tag": "ABX9TyNE1R3wC/DkX2KNBmAv6vev",
      "include_colab_link": true
    },
    "kernelspec": {
      "name": "python3",
      "display_name": "Python 3"
    }
  },
  "cells": [
    {
      "cell_type": "markdown",
      "metadata": {
        "id": "view-in-github",
        "colab_type": "text"
      },
      "source": [
        "<a href=\"https://colab.research.google.com/github/mssuhas/Python-Workshop/blob/master/Python_day_4_Exercise.ipynb\" target=\"_parent\"><img src=\"https://colab.research.google.com/assets/colab-badge.svg\" alt=\"Open In Colab\"/></a>"
      ]
    },
    {
      "cell_type": "code",
      "metadata": {
        "id": "apmFcLTn3wzp",
        "colab_type": "code",
        "colab": {
          "base_uri": "https://localhost:8080/",
          "height": 139
        },
        "outputId": "a0cbee99-49f8-40b4-83ee-005fbbdfd65d"
      },
      "source": [
        "#Write a function called check() , that takes in a list as the input. It has to return whether every  element in it as ‘greater than 5’ or ‘not greater than 5’ or equal to 5. The returned value has to be  placed in the list of tuples as (4, 'Less than 5'), (12, 'Greater than 5 '), (5, 'Equal to 5 '), and so on\n",
        "def check(l):\n",
        "  list=[]\n",
        "  for i in l:\n",
        "    if (i<5):\n",
        "      list.append((i,\"not greater than 5\"))\n",
        "    elif (i>5):\n",
        "      list.append((i,\"greaterer than 5\"))\n",
        "    else:\n",
        "      list.append((i,\"equal to 5\"))\n",
        "  return list\n",
        "l=[int(input(\"enter the elements = \")) for i in range(int(input(\"enter the no of elements = \")))]\n",
        "print(check(l))\n",
        "\n",
        "\n",
        "  "
      ],
      "execution_count": 21,
      "outputs": [
        {
          "output_type": "stream",
          "text": [
            "enter the no of elements = 5\n",
            "enter the elements = 2\n",
            "enter the elements = 5\n",
            "enter the elements = 8\n",
            "enter the elements = 6\n",
            "enter the elements = 1\n",
            "[(2, 'not greater than 5'), (5, 'equal to 5'), (8, 'greaterer than 5'), (6, 'greaterer than 5'), (1, 'not greater than 5')]\n"
          ],
          "name": "stdout"
        }
      ]
    },
    {
      "cell_type": "code",
      "metadata": {
        "id": "jpexqE345XZ7",
        "colab_type": "code",
        "colab": {
          "base_uri": "https://localhost:8080/",
          "height": 121
        },
        "outputId": "a67253dd-500e-49e7-a73c-19c5bf25060e"
      },
      "source": [
        "#Write a program in Python to produce Star triangle for any number n\n",
        "rows = int(input(\"enter the rows = \"))\n",
        "k = 2 * rows - 2\n",
        "for i in range(0, rows):\n",
        "    for j in range(0, k):\n",
        "        print(end=\" \")\n",
        "    k = k - 1\n",
        "    for j in range(0, i + 1):\n",
        "        print(\"* \", end=\"\")\n",
        "    print(\"\")"
      ],
      "execution_count": 2,
      "outputs": [
        {
          "output_type": "stream",
          "text": [
            "enter n value = 5\n",
            "        * \n",
            "       * * \n",
            "      * * * \n",
            "     * * * * \n",
            "    * * * * * \n"
          ],
          "name": "stdout"
        }
      ]
    },
    {
      "cell_type": "code",
      "metadata": {
        "id": "qHcJtp9Z6Uvh",
        "colab_type": "code",
        "colab": {
          "base_uri": "https://localhost:8080/",
          "height": 173
        },
        "outputId": "eb534992-bf8c-449e-afcc-95ca748d2cc2"
      },
      "source": [
        "#Write a program to produce Fibonacci series using generator in Python\n",
        "def fib(limit): \n",
        "    a, b = 0, 1\n",
        "    while a <= limit: \n",
        "        yield a \n",
        "        a, b = b, a + b\n",
        "x = fib(8)\n",
        "print(\"\\nUsing for in loop\") \n",
        "for i in fib(8):  \n",
        "    print(i) "
      ],
      "execution_count": 16,
      "outputs": [
        {
          "output_type": "stream",
          "text": [
            "\n",
            "Using for in loop\n",
            "0\n",
            "1\n",
            "1\n",
            "2\n",
            "3\n",
            "5\n",
            "8\n"
          ],
          "name": "stdout"
        }
      ]
    },
    {
      "cell_type": "code",
      "metadata": {
        "id": "Al73Dy2o7cSJ",
        "colab_type": "code",
        "colab": {
          "base_uri": "https://localhost:8080/",
          "height": 69
        },
        "outputId": "d9c284e7-e4e2-4fdb-c624-eca1d3e063ae"
      },
      "source": [
        "#Write a program to check a number and a string are palindrome or not without using looping statement.\n",
        "def reverse(text):\n",
        "    if len(text) <= 1:\n",
        "        return text\n",
        "    return reverse(text[1:]) + text[0]\n",
        "\n",
        "n = input(\"ENTER  STRING\\n\")\n",
        "if n==reverse(n):\n",
        "    print (\"It's a palindrome\")\n",
        "else:\n",
        "    print (\"It's not a palindrome\")"
      ],
      "execution_count": 17,
      "outputs": [
        {
          "output_type": "stream",
          "text": [
            "ENTER  STRING\n",
            "2332\n",
            "It's a palindrome\n"
          ],
          "name": "stdout"
        }
      ]
    },
    {
      "cell_type": "code",
      "metadata": {
        "id": "Z5ImHualD5Ne",
        "colab_type": "code",
        "colab": {
          "base_uri": "https://localhost:8080/",
          "height": 139
        },
        "outputId": "d4f57f83-6829-4f53-c18c-73aea41b4d38"
      },
      "source": [
        "#Convert the following dictionary into two lists of country and medals. Again convert them into list of (country,medals) . Finally convert the list of tuples into dictionary again.\n",
        "#golds = {\"Italy\": 12, \"USA\": 33, \"Brazil\": 15, \"China\": 27, \"Spain\": 19,\"Canada\": 22, \"Argentina\": 8, \"England\": 29}\n",
        "golds = {\"Italy\": 12, \"USA\": 33, \"Brazil\": 15, \"China\": 27, \"Spain\": 19,\"Canada\": 22, \"Argentina\": 8, \"England\": 29}\n",
        "key=[]\n",
        "val=[]\n",
        "t=[]\n",
        "for k,v in golds.items():\n",
        "  key.append(k)\n",
        "  val.append(v)\n",
        "print(f'Seperate lists:\\n{key}\\n{val}')\n",
        "for i in range(len(key)):\n",
        "  t.append((key[i],val[i]))\n",
        "print(f'List of tuples:\\n{t}')\n",
        "print(f'Dict:\\n{dict(t)}')"
      ],
      "execution_count": 22,
      "outputs": [
        {
          "output_type": "stream",
          "text": [
            "Seperate lists:\n",
            "['Italy', 'USA', 'Brazil', 'China', 'Spain', 'Canada', 'Argentina', 'England']\n",
            "[12, 33, 15, 27, 19, 22, 8, 29]\n",
            "List of tuples:\n",
            "[('Italy', 12), ('USA', 33), ('Brazil', 15), ('China', 27), ('Spain', 19), ('Canada', 22), ('Argentina', 8), ('England', 29)]\n",
            "Dict:\n",
            "{'Italy': 12, 'USA': 33, 'Brazil': 15, 'China': 27, 'Spain': 19, 'Canada': 22, 'Argentina': 8, 'England': 29}\n"
          ],
          "name": "stdout"
        }
      ]
    },
    {
      "cell_type": "code",
      "metadata": {
        "id": "DwDR_puhFPwW",
        "colab_type": "code",
        "colab": {
          "base_uri": "https://localhost:8080/",
          "height": 106
        },
        "outputId": "c4885592-aa7f-4a67-9e0c-33efbbb65012"
      },
      "source": [
        "#6. Sort the following dictionary golds by country and medals as\n",
        "'''- medals by ascending order\n",
        "- medals by descending order\n",
        "-country by ascending order\n",
        "-country by descending order'''\n",
        "import operator\n",
        "golds = {\"Italy\": 114, \"Germany\": 782, \"Pakistan\": 10, \"Sweden\": 6,\"USA\": 2681, \"Zimbabwe\": 8, \"Greece\": 111, \"Mongolia\": 24,\"Brazil\": 108, \"Croatia\": 34, \"Algeria\": 15,\"Switzerland\": 323, \"Yugoslavia\": 87, \"China\": 526,\"Egypt\": 26, \"Norway\": 477, \"Spain\": 133, \"Australia\": 48,\"Slovakia\": 29, \"Canada\": 22, \"New Zealand\": 100,\"Denmark\": 180, \"Chile\": 13, \"Argentina\": 70,\"Thailand\": 24, \"Cuba\": 209, \"Uganda\": 7, \"England\": 806,\"Denmark\": 180, \"Ukraine\": 122, \"Bahamas\": 12}\n",
        "l=sorted(golds.items(), key=operator.itemgetter(1), reverse=False)\n",
        "m=sorted(golds.items(), key=operator.itemgetter(1), reverse=True)\n",
        "n=sorted(golds.items(), key=operator.itemgetter(0), reverse=False)\n",
        "o=sorted(golds.items(), key=operator.itemgetter(1), reverse=True)\n",
        "print(dict(l))\n",
        "print(dict(m))\n",
        "print(dict(n))\n",
        "print(dict(o))"
      ],
      "execution_count": 24,
      "outputs": [
        {
          "output_type": "stream",
          "text": [
            "{'Sweden': 6, 'Uganda': 7, 'Zimbabwe': 8, 'Pakistan': 10, 'Bahamas': 12, 'Chile': 13, 'Algeria': 15, 'Canada': 22, 'Mongolia': 24, 'Thailand': 24, 'Egypt': 26, 'Slovakia': 29, 'Croatia': 34, 'Australia': 48, 'Argentina': 70, 'Yugoslavia': 87, 'New Zealand': 100, 'Brazil': 108, 'Greece': 111, 'Italy': 114, 'Ukraine': 122, 'Spain': 133, 'Denmark': 180, 'Cuba': 209, 'Switzerland': 323, 'Norway': 477, 'China': 526, 'Germany': 782, 'England': 806, 'USA': 2681}\n",
            "{'USA': 2681, 'England': 806, 'Germany': 782, 'China': 526, 'Norway': 477, 'Switzerland': 323, 'Cuba': 209, 'Denmark': 180, 'Spain': 133, 'Ukraine': 122, 'Italy': 114, 'Greece': 111, 'Brazil': 108, 'New Zealand': 100, 'Yugoslavia': 87, 'Argentina': 70, 'Australia': 48, 'Croatia': 34, 'Slovakia': 29, 'Egypt': 26, 'Mongolia': 24, 'Thailand': 24, 'Canada': 22, 'Algeria': 15, 'Chile': 13, 'Bahamas': 12, 'Pakistan': 10, 'Zimbabwe': 8, 'Uganda': 7, 'Sweden': 6}\n",
            "{'Algeria': 15, 'Argentina': 70, 'Australia': 48, 'Bahamas': 12, 'Brazil': 108, 'Canada': 22, 'Chile': 13, 'China': 526, 'Croatia': 34, 'Cuba': 209, 'Denmark': 180, 'Egypt': 26, 'England': 806, 'Germany': 782, 'Greece': 111, 'Italy': 114, 'Mongolia': 24, 'New Zealand': 100, 'Norway': 477, 'Pakistan': 10, 'Slovakia': 29, 'Spain': 133, 'Sweden': 6, 'Switzerland': 323, 'Thailand': 24, 'USA': 2681, 'Uganda': 7, 'Ukraine': 122, 'Yugoslavia': 87, 'Zimbabwe': 8}\n",
            "{'USA': 2681, 'England': 806, 'Germany': 782, 'China': 526, 'Norway': 477, 'Switzerland': 323, 'Cuba': 209, 'Denmark': 180, 'Spain': 133, 'Ukraine': 122, 'Italy': 114, 'Greece': 111, 'Brazil': 108, 'New Zealand': 100, 'Yugoslavia': 87, 'Argentina': 70, 'Australia': 48, 'Croatia': 34, 'Slovakia': 29, 'Egypt': 26, 'Mongolia': 24, 'Thailand': 24, 'Canada': 22, 'Algeria': 15, 'Chile': 13, 'Bahamas': 12, 'Pakistan': 10, 'Zimbabwe': 8, 'Uganda': 7, 'Sweden': 6}\n"
          ],
          "name": "stdout"
        }
      ]
    }
  ]
}