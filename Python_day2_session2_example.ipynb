{
  "nbformat": 4,
  "nbformat_minor": 0,
  "metadata": {
    "colab": {
      "name": "Python day2 session2 example.ipynb",
      "provenance": [],
      "authorship_tag": "ABX9TyObRyIqecxIp0fY+LyywTXX",
      "include_colab_link": true
    },
    "kernelspec": {
      "name": "python3",
      "display_name": "Python 3"
    }
  },
  "cells": [
    {
      "cell_type": "markdown",
      "metadata": {
        "id": "view-in-github",
        "colab_type": "text"
      },
      "source": [
        "<a href=\"https://colab.research.google.com/github/mssuhas/Python-Workshop/blob/master/Python_day2_session2_example.ipynb\" target=\"_parent\"><img src=\"https://colab.research.google.com/assets/colab-badge.svg\" alt=\"Open In Colab\"/></a>"
      ]
    },
    {
      "cell_type": "code",
      "metadata": {
        "id": "3BBjvJmHMQZY",
        "colab_type": "code",
        "colab": {
          "base_uri": "https://localhost:8080/",
          "height": 52
        },
        "outputId": "87339ac7-58e4-468e-e859-03119d4f32ad"
      },
      "source": [
        "#dict.clear() \n",
        "#Removes all elements of dictionary dict \n",
        "dict = {'Name': 'Zara', 'Age': 7}; \n",
        "print(\"Start Len : %d\" % len(dict)) \n",
        "dict.clear() \n",
        "print(\"End Len : %d\" % len(dict)) \n"
      ],
      "execution_count": null,
      "outputs": [
        {
          "output_type": "stream",
          "text": [
            "Start Len : 2\n",
            "End Len : 0\n"
          ],
          "name": "stdout"
        }
      ]
    },
    {
      "cell_type": "code",
      "metadata": {
        "id": "4ZwqHiW1MYel",
        "colab_type": "code",
        "colab": {
          "base_uri": "https://localhost:8080/",
          "height": 34
        },
        "outputId": "e4f5d28b-9f31-4bab-9f26-cc91cae749b6"
      },
      "source": [
        "#dict.items() \n",
        "#Returns a list of dict's (key, value) tuple pairs \n",
        "dict = {'Name': 'Zara', 'Age': 7} \n",
        "print (\"Value : %s\" % dict.items()) \n"
      ],
      "execution_count": null,
      "outputs": [
        {
          "output_type": "stream",
          "text": [
            "Value : dict_items([('Name', 'Zara'), ('Age', 7)])\n"
          ],
          "name": "stdout"
        }
      ]
    },
    {
      "cell_type": "code",
      "metadata": {
        "id": "ZhaLvSIMMbam",
        "colab_type": "code",
        "colab": {
          "base_uri": "https://localhost:8080/",
          "height": 34
        },
        "outputId": "60ccb691-09c5-425f-8fe2-97d82dbc951a"
      },
      "source": [
        "# dict.copy() \n",
        "#Returns a copy of dictionary dict \n",
        "dict1 = {'Name': 'Zara', 'Age': 7}; \n",
        "dict2 = dict1.copy() \n",
        "print (\"New Dictinary : %s\" % str(dict2)) \n"
      ],
      "execution_count": null,
      "outputs": [
        {
          "output_type": "stream",
          "text": [
            "New Dictinary : {'Name': 'Zara', 'Age': 7}\n"
          ],
          "name": "stdout"
        }
      ]
    },
    {
      "cell_type": "code",
      "metadata": {
        "id": "0g_uQQdDMfF8",
        "colab_type": "code",
        "colab": {
          "base_uri": "https://localhost:8080/",
          "height": 52
        },
        "outputId": "3c96a845-d529-42f0-8fe4-3c79b1963215"
      },
      "source": [
        "#Python Program to Generate a Dictionary that Contains Numbers (between 1 and n) in the  Form (x,x*x).  \n",
        "n=int(input(\"Enter a number:\")) \n",
        "d={x:x*x for x in range(1,n+1)} \n",
        "print(d)\n"
      ],
      "execution_count": null,
      "outputs": [
        {
          "output_type": "stream",
          "text": [
            "Enter a number:2\n",
            "{1: 1, 2: 4}\n"
          ],
          "name": "stdout"
        }
      ]
    },
    {
      "cell_type": "code",
      "metadata": {
        "id": "SWEZYOvfMyK4",
        "colab_type": "code",
        "colab": {
          "base_uri": "https://localhost:8080/",
          "height": 52
        },
        "outputId": "cf919d6f-be3c-4216-87f2-9dd18912296f"
      },
      "source": [
        "#Python Program to Sum All the Items in a Dictionary  \n",
        "d={'A':100,'B':540,'C':239} \n",
        "print(\"Total sum of values in the dictionary:\") \n",
        "print(sum(d.values())) \n"
      ],
      "execution_count": null,
      "outputs": [
        {
          "output_type": "stream",
          "text": [
            "Total sum of values in the dictionary:\n",
            "879\n"
          ],
          "name": "stdout"
        }
      ]
    },
    {
      "cell_type": "code",
      "metadata": {
        "id": "uhG65x_aM2PT",
        "colab_type": "code",
        "colab": {
          "base_uri": "https://localhost:8080/",
          "height": 104
        },
        "outputId": "35a6bf18-85bc-43a8-8c7a-b299c4bf053b"
      },
      "source": [
        "#Python Program to Remove the Given Key from a Dictionary  \n",
        "d = {'a':1,'b':2,'c':3,'d':4} \n",
        "print(\"Initial dictionary\") \n",
        "print(d) \n",
        "key=input(\"Enter the key to delete(a-d):\") \n",
        "if key in d:  \n",
        " del d[key] \n",
        "else: \n",
        " print(\"Key not found!\") \n",
        " exit(0) \n",
        "print(\"Updated dictionary\") \n",
        "print(d) \n"
      ],
      "execution_count": null,
      "outputs": [
        {
          "output_type": "stream",
          "text": [
            "Initial dictionary\n",
            "{'a': 1, 'b': 2, 'c': 3, 'd': 4}\n",
            "Enter the key to delete(a-d):b\n",
            "Updated dictionary\n",
            "{'a': 1, 'c': 3, 'd': 4}\n"
          ],
          "name": "stdout"
        }
      ]
    },
    {
      "cell_type": "code",
      "metadata": {
        "id": "vsveCrfpNBoY",
        "colab_type": "code",
        "colab": {
          "base_uri": "https://localhost:8080/",
          "height": 121
        },
        "outputId": "6cb8b7e1-6393-4e92-aeeb-3e18e7c4c532"
      },
      "source": [
        "#Python Program to add name and mark as key->value pair in a Dictionary and print it. \n",
        "n=int(input(\"Enter no of records\")) \n",
        "d={} \n",
        "for i in range(1,n+1):\n",
        "  name= input(\"Enter name %d\"%(i)) \n",
        "  mark=int(input(\"Enter mark %d\"%(i))) \n",
        "  d[name]=mark \n",
        "print(d)\n"
      ],
      "execution_count": null,
      "outputs": [
        {
          "output_type": "stream",
          "text": [
            "Enter no of records2\n",
            "Enter name 1google\n",
            "Enter mark 123\n",
            "Enter name 2yahoo\n",
            "Enter mark 265\n",
            "{'google': 23, 'yahoo': 65}\n"
          ],
          "name": "stdout"
        }
      ]
    },
    {
      "cell_type": "code",
      "metadata": {
        "id": "LQoozO7lONi6",
        "colab_type": "code",
        "colab": {
          "base_uri": "https://localhost:8080/",
          "height": 523
        },
        "outputId": "4b9b8400-6831-45f1-f1d7-5ba594a67ffa"
      },
      "source": [
        "# Keys and Values example \n",
        "d={}\n",
        "print(\" The dictionary elements are\") \n",
        "for i in range(1,21): \n",
        "  d[i]=i**2 \n",
        "print(d) \n",
        "# To print key and values \n",
        "print(\" Key==> Value are\") \n",
        "for (k,v) in d.items(): \n",
        " print(k,\"==>\",v) \n",
        "# To print key only \n",
        "print (\"\\nTo print key only\") \n",
        "for k in d.keys(): \n",
        " print(k, end=\" \") \n",
        "#To print value only \n",
        "print(\"\\nTo print values only\") \n",
        "for v in d.values(): \n",
        " print(v, end=\" \") \n"
      ],
      "execution_count": null,
      "outputs": [
        {
          "output_type": "stream",
          "text": [
            " The dictionary elements are\n",
            "{1: 1, 2: 4, 3: 9, 4: 16, 5: 25, 6: 36, 7: 49, 8: 64, 9: 81, 10: 100, 11: 121, 12: 144, 13: 169, 14: 196, 15: 225, 16: 256, 17: 289, 18: 324, 19: 361, 20: 400}\n",
            " Key==> Value are\n",
            "1 ==> 1\n",
            "2 ==> 4\n",
            "3 ==> 9\n",
            "4 ==> 16\n",
            "5 ==> 25\n",
            "6 ==> 36\n",
            "7 ==> 49\n",
            "8 ==> 64\n",
            "9 ==> 81\n",
            "10 ==> 100\n",
            "11 ==> 121\n",
            "12 ==> 144\n",
            "13 ==> 169\n",
            "14 ==> 196\n",
            "15 ==> 225\n",
            "16 ==> 256\n",
            "17 ==> 289\n",
            "18 ==> 324\n",
            "19 ==> 361\n",
            "20 ==> 400\n",
            "\n",
            "To print key only\n",
            "1 2 3 4 5 6 7 8 9 10 11 12 13 14 15 16 17 18 19 20 \n",
            "To print values only\n",
            "1 4 9 16 25 36 49 64 81 100 121 144 169 196 225 256 289 324 361 400 "
          ],
          "name": "stdout"
        }
      ]
    },
    {
      "cell_type": "code",
      "metadata": {
        "id": "DGzXo5snPj1_",
        "colab_type": "code",
        "colab": {
          "base_uri": "https://localhost:8080/",
          "height": 52
        },
        "outputId": "fd1a9384-8403-47e6-cf8f-cff92208611d"
      },
      "source": [
        "#Python program to convert 2 digit number into words \n",
        "d={0:'',1:'one',2:'two',3:'three',4:'four',5:'five',6:'six',7:'seven',8:'eight',9:'nine',10:'ten',11:'eleven',12:'twelve',13:'thirteen',14:'fourteen',15:'fifteen',16:'sixteen',17:'seventeen',18:'eightteen',19:'nineteen',20:'twenty',30:'thirty',40:'fourty',50:'fifty',60:'sixty',70:'seventy',80:'eighty',90:'ninty'} \n",
        "num=int(input(\"Enter the integer between 1 to 99:\")) \n",
        "if (num<=20): \n",
        " print(d[num]) \n",
        "if(num>20 and num<100): \n",
        " if num%10==0:  \n",
        "  print(d[num]) \n",
        " else: \n",
        "  print(d[num//10*10]+\" \"+d[num%10]) \n"
      ],
      "execution_count": null,
      "outputs": [
        {
          "output_type": "stream",
          "text": [
            "Enter the integer between 1 to 99:55\n",
            "fifty five\n"
          ],
          "name": "stdout"
        }
      ]
    },
    {
      "cell_type": "code",
      "metadata": {
        "id": "IVg6uydDP-CI",
        "colab_type": "code",
        "colab": {
          "base_uri": "https://localhost:8080/",
          "height": 52
        },
        "outputId": "3887090b-0f5d-4427-ae66-6f87183b1e31"
      },
      "source": [
        "#How to sort a dictionary by values in Python \n",
        "d = {\"Pierre\": 42, \"Anne\": 33, \"Zoe\": 24}\n",
        "#Use the sorted function and operator module \n",
        "import operator \n",
        "sorted_d = sorted(d.items(), key=operator.itemgetter(1)) \n",
        "print(sorted_d) \n",
        "sorted_a= sorted(d.items(), key=operator.itemgetter(1),reverse=True) \n",
        "print(sorted_a) \n"
      ],
      "execution_count": null,
      "outputs": [
        {
          "output_type": "stream",
          "text": [
            "[('Zoe', 24), ('Anne', 33), ('Pierre', 42)]\n",
            "[('Pierre', 42), ('Anne', 33), ('Zoe', 24)]\n"
          ],
          "name": "stdout"
        }
      ]
    },
    {
      "cell_type": "markdown",
      "metadata": {
        "id": "tg5jXV6uTGIy",
        "colab_type": "text"
      },
      "source": [
        "FILES\n"
      ]
    },
    {
      "cell_type": "code",
      "metadata": {
        "id": "TUMNbDCpT9gG",
        "colab_type": "code",
        "colab": {
          "base_uri": "https://localhost:8080/",
          "height": 69
        },
        "outputId": "a3afdaa2-5a26-4e45-c800-67f0f5f83f40"
      },
      "source": [
        "#Python Program to count the number of lines in a text file. \n",
        "fname = input(\"Enter file name: \") \n",
        "num_lines = 0 \n",
        "with open(fname, 'r') as f: \n",
        " for line in f: \n",
        "  num_lines += 1 \n",
        "print(\"Number of lines:\") \n",
        "print(num_lines)\n"
      ],
      "execution_count": null,
      "outputs": [
        {
          "output_type": "stream",
          "text": [
            "Enter file name: abc\n",
            "Number of lines:\n",
            "1\n"
          ],
          "name": "stdout"
        }
      ]
    },
    {
      "cell_type": "code",
      "metadata": {
        "id": "rnMhkQgXtaMy",
        "colab_type": "code",
        "colab": {
          "base_uri": "https://localhost:8080/",
          "height": 69
        },
        "outputId": "d0c3ed2e-c901-4b18-8c07-bcd3b1b3fce9"
      },
      "source": [
        "#Python Program to count the number of words in a text file.  \n",
        "fname = input(\"Enter file name: \") \n",
        "num_words = 0 \n",
        "with open(fname, 'r') as f: \n",
        " for line in f: \n",
        "  words = line.split() \n",
        "  num_words += len(words) \n",
        "print(\"Number of words:\") \n",
        "print(num_words)\n"
      ],
      "execution_count": null,
      "outputs": [
        {
          "output_type": "stream",
          "text": [
            "Enter file name: abc\n",
            "Number of words:\n",
            "2\n"
          ],
          "name": "stdout"
        }
      ]
    },
    {
      "cell_type": "code",
      "metadata": {
        "id": "t6AB2xjLte3O",
        "colab_type": "code",
        "colab": {
          "base_uri": "https://localhost:8080/",
          "height": 86
        },
        "outputId": "d023707a-ca80-423c-a6bf-28068c6faa6e"
      },
      "source": [
        "#Python Program to count the occurrences of a word in a text file. \n",
        "fname = input(\"Enter file name: \") \n",
        "word=input(\"Enter word to be searched:\") \n",
        "k = 0 \n",
        "with open(fname, 'r') as f: \n",
        " for line in f: \n",
        "  words = line.split() \n",
        " for i in words: \n",
        "  if(i==word): \n",
        "    k=k+1 \n",
        "print(\"Occurrences of the word:\") \n",
        "print(k) \n"
      ],
      "execution_count": null,
      "outputs": [
        {
          "output_type": "stream",
          "text": [
            "Enter file name: abc\n",
            "Enter word to be searched:hello\n",
            "Occurrences of the word:\n",
            "1\n"
          ],
          "name": "stdout"
        }
      ]
    },
    {
      "cell_type": "code",
      "metadata": {
        "id": "WPKrtT5itp5a",
        "colab_type": "code",
        "colab": {}
      },
      "source": [
        "#Python Program to copy the contents of one file into another.  \n",
        "with open(\"abc\") as f: \n",
        "  with open(\"abd\", \"w\") as f1: \n",
        "    for line in f:\n",
        "      f1.write(line)\n"
      ],
      "execution_count": null,
      "outputs": []
    },
    {
      "cell_type": "code",
      "metadata": {
        "id": "ef3FI5GAyPUw",
        "colab_type": "code",
        "colab": {
          "base_uri": "https://localhost:8080/",
          "height": 52
        },
        "outputId": "b0bc9d82-0fec-4727-b743-7ad14a91355d"
      },
      "source": [
        "#Python Program to read the contents of the file in reverse order. \n",
        "filename=input(\"Enter file name: \")  \n",
        "with open (filename,'r') as f: \n",
        " for line in f: \n",
        "  l=line.split() \n",
        "  l.reverse()  \n",
        "  st= \" \".join(l) \n",
        "print (st) \n"
      ],
      "execution_count": null,
      "outputs": [
        {
          "output_type": "stream",
          "text": [
            "Enter file name: abc\n",
            "world hello\n"
          ],
          "name": "stdout"
        }
      ]
    }
  ]
}