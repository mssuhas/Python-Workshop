{
  "nbformat": 4,
  "nbformat_minor": 0,
  "metadata": {
    "colab": {
      "name": "Python day2 session2 exerxise.ipynb",
      "provenance": [],
      "authorship_tag": "ABX9TyPTbQizKRuQrBBGo+bj8+KH",
      "include_colab_link": true
    },
    "kernelspec": {
      "name": "python3",
      "display_name": "Python 3"
    }
  },
  "cells": [
    {
      "cell_type": "markdown",
      "metadata": {
        "id": "view-in-github",
        "colab_type": "text"
      },
      "source": [
        "<a href=\"https://colab.research.google.com/github/mssuhas/Python-Workshop/blob/master/Python_day2_session2_exerxise.ipynb\" target=\"_parent\"><img src=\"https://colab.research.google.com/assets/colab-badge.svg\" alt=\"Open In Colab\"/></a>"
      ]
    },
    {
      "cell_type": "code",
      "metadata": {
        "id": "i3silUW_QRA0",
        "colab_type": "code",
        "colab": {
          "base_uri": "https://localhost:8080/",
          "height": 156
        },
        "outputId": "2e2a9ab5-cc3f-4911-ee81-d42b109f056f"
      },
      "source": [
        "#Add rollno and marks {name:mark} for n number of students through keyboard in a diction ary and print the marks in descending order with respective name. \n",
        "import operator\n",
        "d={input(f\"Enter the name {i}: \"):int(input(f\"enter the marks {i}: \")) for i in range(1,int(input(f\"enter the no of students \"))+1)}\n",
        "print(dict(sorted(d.items(), key = lambda kv:(kv[1], kv[0]))))\n"
      ],
      "execution_count": null,
      "outputs": [
        {
          "output_type": "stream",
          "text": [
            "enter the no of students 3\n",
            "enter the marks 1: 60\n",
            "Enter the name 1: sai\n",
            "enter the marks 2: 55\n",
            "Enter the name 2: hari\n",
            "enter the marks 3: 80\n",
            "Enter the name 3: dilip\n",
            "{'hari': 55, 'sai': 60, 'dilip': 80}\n"
          ],
          "name": "stdout"
        }
      ]
    },
    {
      "cell_type": "code",
      "metadata": {
        "id": "T5h2RjvLfHoj",
        "colab_type": "code",
        "colab": {
          "base_uri": "https://localhost:8080/",
          "height": 156
        },
        "outputId": "4c47a81d-7c37-464d-fe63-19da4294583e"
      },
      "source": [
        "#Add name and salary {name:salary} for n number of employees through keyboard in a dic tionary and print them in name alphabetical order with salary \n",
        "d={input(f\"Enter the name {i}: \"):int(input(f\"enter the salary {i}: \")) for i in range(1,int(input(f\"enter the no of employees \"))+1)}\n",
        "print(sorted(d.items(), key = lambda kv:(kv[0], kv[1])))"
      ],
      "execution_count": null,
      "outputs": [
        {
          "output_type": "stream",
          "text": [
            "enter the no of employees 3\n",
            "enter the salary 1: 15000\n",
            "Enter the name 1: sai\n",
            "enter the salary 2: 20000\n",
            "Enter the name 2: dilip\n",
            "enter the salary 3: 12000\n",
            "Enter the name 3: tilak\n",
            "[('dilip', 20000), ('sai', 15000), ('tilak', 12000)]\n"
          ],
          "name": "stdout"
        }
      ]
    },
    {
      "cell_type": "code",
      "metadata": {
        "id": "NuOXTe2ng6vp",
        "colab_type": "code",
        "colab": {
          "base_uri": "https://localhost:8080/",
          "height": 225
        },
        "outputId": "e59d16a7-aaf6-40b3-851a-a6fd7d399392"
      },
      "source": [
        "#Add name and salary {name:salary} for n number of employees through keyboard in a dic tionary and print them in salary ascending order and sum, max, min and average of the  salaries\n",
        "d={input(f\"Enter the name {i}: \"):int(input(f\"enter the salary {i}: \")) for i in range(1,int(input(f\"enter the no of employees \"))+1)}\n",
        "print(sorted(d.items(), key = lambda kv:(kv[1], kv[0])))\n",
        "print(f\"sum={sum(d.values())}\\nmax = {max(d.values())} \\nmin = {min(d.values())} \\naverage = {(sum(d.values())/len(d.values()))}\")"
      ],
      "execution_count": null,
      "outputs": [
        {
          "output_type": "stream",
          "text": [
            "enter the no of employees 3\n",
            "enter the salary 1: 15000\n",
            "Enter the name 1: tilak\n",
            "enter the salary 2: 20000\n",
            "Enter the name 2: sai\n",
            "enter the salary 3: 10000\n",
            "Enter the name 3: hari\n",
            "[('hari', 10000), ('tilak', 15000), ('sai', 20000)]\n",
            "sum=45000\n",
            "max = 20000 \n",
            "min = 10000 \n",
            "average = 15000.0\n"
          ],
          "name": "stdout"
        }
      ]
    },
    {
      "cell_type": "code",
      "metadata": {
        "id": "UaWi1JtPjQ4Q",
        "colab_type": "code",
        "colab": {
          "base_uri": "https://localhost:8080/",
          "height": 156
        },
        "outputId": "47751cb7-61fe-454a-c2b1-a8d42320bd75"
      },
      "source": [
        "#Add name and salary {name:salary} for n number of employees through keyboard in a dic tionary and print only the employees whose salary is greater than 2000 but less than 4000\n",
        "l=[]\n",
        "d={input(f\"Enter the name {i}: \"):int(input(f\"enter the salary {i}: \")) for i in range(1,int(input(f\"enter the no of employees \"))+1)}\n",
        "for i,j in d.items():\n",
        "  if j>2000 and j<4000:\n",
        "    l.append((i,j))\n",
        "print(dict(l))"
      ],
      "execution_count": null,
      "outputs": [
        {
          "output_type": "stream",
          "text": [
            "enter the no of employees 3\n",
            "enter the salary 1: 2500\n",
            "Enter the name 1: sai\n",
            "enter the salary 2: 1500\n",
            "Enter the name 2: hari\n",
            "enter the salary 3: 3000\n",
            "Enter the name 3: tilak\n",
            "{'sai': 2500, 'tilak': 3000}\n"
          ],
          "name": "stdout"
        }
      ]
    },
    {
      "cell_type": "code",
      "metadata": {
        "id": "d8rkdyQtlK2k",
        "colab_type": "code",
        "colab": {
          "base_uri": "https://localhost:8080/",
          "height": 52
        },
        "outputId": "18f29722-88f7-4ab0-fa41-1ad1247689d3"
      },
      "source": [
        "#Python program to convert a 3 digit number into words \n",
        "d={0:'',1:'one',2:'two',3:'three',4:'four',5:'five',6:'six',7:'seven',8:'eight',9:'nine',  10:'ten',11:'eleven',12:'twelve',13:'thirteen',14:'fourteen',15:'fifteen',16:'sixteen',  17:'seventeen',18:'eightteen',19:'nineteen',20:'twenty',30:'thirty',40:'fourty',50:'fifty', 60:'sixty',70:'seventy',80:'eighty',90:'ninty',100:'One Hundred',200:'Two Hundred',300:'Three Hundred',400:'Four Hundred',500:'Five Hundred',600:'Six Hundred',700:'Seven Hundred',800:'Eight hundred',900:'Nine Hundred'} \n",
        "n=int(input(\"Enter the integer between 1 to 999:\")) \n",
        "if (n<=20): \n",
        " print(d[n]) \n",
        "elif (n<100):\n",
        "    print(d[n//10*10]+\" \"+d.get((n%10), ''))\n",
        "else:\n",
        "  if (n-(n//100)*100<=20):\n",
        "    print(f'{d[(n//100)*100]} {d[n-(n//100)*100]}')\n",
        "  else:\n",
        "    print(f'{d[(n//100)*100]} {d[((n//10)%10)*10]} {d[n%10]}')"
      ],
      "execution_count": null,
      "outputs": [
        {
          "output_type": "stream",
          "text": [
            "Enter the integer between 1 to 999:588\n",
            "Five Hundred eighty eight\n"
          ],
          "name": "stdout"
        }
      ]
    },
    {
      "cell_type": "markdown",
      "metadata": {
        "id": "x-0jpKZOo2aE",
        "colab_type": "text"
      },
      "source": [
        "**FILES**"
      ]
    },
    {
      "cell_type": "code",
      "metadata": {
        "id": "CA1CI_r5o7Ac",
        "colab_type": "code",
        "colab": {
          "base_uri": "https://localhost:8080/",
          "height": 69
        },
        "outputId": "5564d224-647c-4989-da7c-469254bc7e7c"
      },
      "source": [
        "#Python Program to count the total number of charaters (except blank space) in a text file.\n",
        "fname = input(\"Enter file name: \")\n",
        "k = 0\n",
        " \n",
        "with open(fname, 'r') as f:\n",
        "    for line in f:\n",
        "        words = line.split()\n",
        "        for i in words:\n",
        "            for letter in i:\n",
        "                if(letter.isspace):\n",
        "                    k=k+1\n",
        "print(\"Occurrences without blank spaces:\")\n",
        "print(k)"
      ],
      "execution_count": null,
      "outputs": [
        {
          "output_type": "stream",
          "text": [
            "Enter file name: abc\n",
            "Occurrences without blank spaces:\n",
            "10\n"
          ],
          "name": "stdout"
        }
      ]
    },
    {
      "cell_type": "code",
      "metadata": {
        "id": "JNuPEv_lp6TV",
        "colab_type": "code",
        "colab": {
          "base_uri": "https://localhost:8080/",
          "height": 52
        },
        "outputId": "52d3f21d-deb7-4b35-c065-e1ac35c36a44"
      },
      "source": [
        "#Python Program to print all the numbers present in a text file with its total number of occurrence. \n",
        "f=open('/content/abc','r')\n",
        "li=[]\n",
        "a=[]\n",
        "for l in f:\n",
        "  li=l.split()\n",
        "  for w in li:\n",
        "    try:\n",
        "      x=int(w)\n",
        "      a.append(x)\n",
        "    except:\n",
        "      continue\n",
        "for i in a:\n",
        "  print(i,end=' ')\n",
        "print(f'\\nSum = {sum(a)}')"
      ],
      "execution_count": 23,
      "outputs": [
        {
          "output_type": "stream",
          "text": [
            "11 20 21 \n",
            "Sum = 52\n"
          ],
          "name": "stdout"
        }
      ]
    },
    {
      "cell_type": "code",
      "metadata": {
        "id": "qG6lS_hBufFL",
        "colab_type": "code",
        "colab": {
          "base_uri": "https://localhost:8080/",
          "height": 52
        },
        "outputId": "55d8cb88-1c15-4d87-eac2-bd32d1da3d70"
      },
      "source": [
        "    #Python Program to count the number of blank spaces in a text file.  \n",
        "    input_file = input(\"Enter File name : \") \n",
        "    file_txt = open(input_file)\t\t\n",
        "    text = file_txt.read()     \n",
        "    space = 0\t\t     \n",
        "    for i in text:\t\t\t\t\t \n",
        "    \tif(i == \" \"): \n",
        "    \t\tspace += 1     \n",
        "    print (\" Spaces = {}\".format(space)) "
      ],
      "execution_count": null,
      "outputs": [
        {
          "output_type": "stream",
          "text": [
            "Enter File name : abc\n",
            " Spaces = 1\n"
          ],
          "name": "stdout"
        }
      ]
    },
    {
      "cell_type": "code",
      "metadata": {
        "id": "c2bYt-lKr7lZ",
        "colab_type": "code",
        "colab": {
          "base_uri": "https://localhost:8080/",
          "height": 52
        },
        "outputId": "3db26da2-88d7-49ad-9649-10e6fe742cfc"
      },
      "source": [
        "#Python Program to append the contents of one file to another file by getting the both file names  through keyboard .\n",
        "name1 = input(\"Enter file to be read from: \")\n",
        "name2 = input(\"Enter file to be appended to: \")\n",
        "fin = open(name1, \"r\")\n",
        "data2 = fin.read()\n",
        "fin.close()\n",
        "fout = open(name2, \"a\")\n",
        "fout.write(data2)\n",
        "fout.close() \n"
      ],
      "execution_count": null,
      "outputs": [
        {
          "output_type": "stream",
          "text": [
            "Enter file to be read from: abc\n",
            "Enter file to be appended to: abd\n"
          ],
          "name": "stdout"
        }
      ]
    },
    {
      "cell_type": "code",
      "metadata": {
        "id": "74-X4tRhuP5x",
        "colab_type": "code",
        "colab": {
          "base_uri": "https://localhost:8080/",
          "height": 156
        },
        "outputId": "40a2e69b-8be2-4c5e-9a55-d9d4ddfb0b1a"
      },
      "source": [
        "#Python Program to read a file and capitalize the first letter of every word in the file and copy the  every word capitalized content into another file and read it \n",
        "f=open('/content/abc','r')\n",
        "a=open('t.txt','w')\n",
        "for l in f:\n",
        "  a.write(l.title())\n",
        "a.close()\n",
        "s=open('t.txt','r')\n",
        "for b in s:\n",
        "  print(b)"
      ],
      "execution_count": 9,
      "outputs": [
        {
          "output_type": "stream",
          "text": [
            "Hello World\n",
            "\n",
            "Hello\n",
            "\n",
            "Hi\n",
            "\n",
            "\n",
            "\n"
          ],
          "name": "stdout"
        }
      ]
    }
  ]
}