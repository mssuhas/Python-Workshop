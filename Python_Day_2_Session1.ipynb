{
  "nbformat": 4,
  "nbformat_minor": 0,
  "metadata": {
    "colab": {
      "name": "Python Day 2 Session1.ipynb",
      "provenance": [],
      "authorship_tag": "ABX9TyOITUCdlTTjmuYl4arHbxhi",
      "include_colab_link": true
    },
    "kernelspec": {
      "name": "python3",
      "display_name": "Python 3"
    }
  },
  "cells": [
    {
      "cell_type": "markdown",
      "metadata": {
        "id": "view-in-github",
        "colab_type": "text"
      },
      "source": [
        "<a href=\"https://colab.research.google.com/github/mssuhas/Python-Workshop/blob/master/Python_Day_2_Session1.ipynb\" target=\"_parent\"><img src=\"https://colab.research.google.com/assets/colab-badge.svg\" alt=\"Open In Colab\"/></a>"
      ]
    },
    {
      "cell_type": "code",
      "metadata": {
        "id": "egLuO7f-NBhG",
        "colab_type": "code",
        "colab": {
          "base_uri": "https://localhost:8080/",
          "height": 139
        },
        "outputId": "68c8a528-b829-4e96-d8ac-beb603e977a1"
      },
      "source": [
        "#Program to find the largest number in a list. \n",
        "a=[] \n",
        "n=int(input(\"Enter number of elements:\")) \n",
        "for i in range(1,n+1): \n",
        " b=int(input(\"Enter element:\")) \n",
        " a.append(b) \n",
        "a.sort() \n",
        "print(\"Largest element is:\",a[n-1]) \n"
      ],
      "execution_count": 1,
      "outputs": [
        {
          "output_type": "stream",
          "text": [
            "Enter number of elements:5\n",
            "Enter element:5\n",
            "Enter element:6\n",
            "Enter element:3\n",
            "Enter element:1\n",
            "Enter element:8\n",
            "Largest element is: 8\n"
          ],
          "name": "stdout"
        }
      ]
    },
    {
      "cell_type": "code",
      "metadata": {
        "id": "FmSVRHRGOUrs",
        "colab_type": "code",
        "colab": {
          "base_uri": "https://localhost:8080/",
          "height": 156
        },
        "outputId": "66006523-f99f-425c-edb0-1707a0af640e"
      },
      "source": [
        "#Python Program to put the even and odd elements in a list into two different lists.  \n",
        "a=[] \n",
        "n=int(input(\"Enter number of elements:\")) \n",
        "for i in range(1,n+1): \n",
        " b=int(input(\"Enter element:\")) \n",
        " a.append(b) \n",
        "even=[] \n",
        "odd=[] \n",
        "for j in a: \n",
        " if(j%2==0): \n",
        "  even.append(j) \n",
        " else: \n",
        "  odd.append(j) \n",
        "print(\"The even list\",even) \n",
        "print(\"The odd list\",odd) \n"
      ],
      "execution_count": 4,
      "outputs": [
        {
          "output_type": "stream",
          "text": [
            "Enter number of elements:5\n",
            "Enter element:8\n",
            "Enter element:6\n",
            "Enter element:1\n",
            "Enter element:3\n",
            "Enter element:5\n",
            "The even list [8, 6]\n",
            "The odd list [1, 3, 5]\n"
          ],
          "name": "stdout"
        }
      ]
    },
    {
      "cell_type": "code",
      "metadata": {
        "id": "gHG6GC3BOpL1",
        "colab_type": "code",
        "colab": {
          "base_uri": "https://localhost:8080/",
          "height": 243
        },
        "outputId": "186cffab-be54-418b-8fff-6bcf2196b7b8"
      },
      "source": [
        "#Python Program to merge two lists and sort it. \n",
        "a=[] \n",
        "c=[] \n",
        "n1=int(input(\"Enter number of elements:\")) \n",
        "for i in range(1,n1+1): \n",
        " b=int(input(\"Enter element:\")) \n",
        " a.append(b) \n",
        "n2=int(input(\"Enter number of elements:\")) \n",
        "for i in range(1,n2+1): \n",
        " d=int(input(\"Enter element:\")) \n",
        " c.append(d) \n",
        "new=a+c \n",
        "new.sort()\n",
        "print(\"Sorted list is:\",new)\n"
      ],
      "execution_count": 5,
      "outputs": [
        {
          "output_type": "stream",
          "text": [
            "Enter number of elements:5\n",
            "Enter element:4\n",
            "Enter element:3\n",
            "Enter element:8\n",
            "Enter element:10\n",
            "Enter element:2\n",
            "Enter number of elements:5\n",
            "Enter element:2\n",
            "Enter element:6\n",
            "Enter element:11\n",
            "Enter element:1\n",
            "Enter element:4\n",
            "Sorted list is: [1, 2, 2, 3, 4, 4, 6, 8, 10, 11]\n"
          ],
          "name": "stdout"
        }
      ]
    },
    {
      "cell_type": "code",
      "metadata": {
        "id": "__GQV3Z3PAXN",
        "colab_type": "code",
        "colab": {
          "base_uri": "https://localhost:8080/",
          "height": 34
        },
        "outputId": "328e2d61-e51f-4def-fccb-7673758e78e5"
      },
      "source": [
        "#Python Program to sort the list according to the second element in the sublist. \n",
        "a=[['A',34],['B',21],['C',26],['E',29]] \n",
        "for i in range(0,len(a)): \n",
        " for j in range(i+1,len(a)): \n",
        "  if(a[i][1]>a[j][1]): \n",
        "    temp=a[j] \n",
        "    a[j]=a[i] \n",
        "    a[i]=temp \n",
        "print(a) \n",
        "\n"
      ],
      "execution_count": 10,
      "outputs": [
        {
          "output_type": "stream",
          "text": [
            "[['B', 21], ['C', 26], ['E', 29], ['A', 34]]\n"
          ],
          "name": "stdout"
        }
      ]
    },
    {
      "cell_type": "code",
      "metadata": {
        "id": "bs5k6ZhsQKR2",
        "colab_type": "code",
        "colab": {
          "base_uri": "https://localhost:8080/",
          "height": 139
        },
        "outputId": "ee9a7a02-af1e-43b6-94f3-48caf4ef14a5"
      },
      "source": [
        "#Python Program to find the second largest number in a list using bubble sort.  \n",
        "a=[] \n",
        "n=int(input(\"Enter number of elements:\")) \n",
        "for i in range(1,n+1): \n",
        " b=int(input(\"Enter element:\")) \n",
        " a.append(b) \n",
        "for i in range(0,len(a)): \n",
        " for j in range(0,len(a)-i-1): \n",
        "  if(a[j]>a[j+1]): \n",
        "    temp=a[j] \n",
        "    a[j]=a[j+1] \n",
        "    a[j+1]=temp  \n",
        "print('Second largest number is:',a[n-2]) \n"
      ],
      "execution_count": 13,
      "outputs": [
        {
          "output_type": "stream",
          "text": [
            "Enter number of elements:5\n",
            "Enter element:5\n",
            "Enter element:3\n",
            "Enter element:1\n",
            "Enter element:8\n",
            "Enter element:10\n",
            "Second largest number is: 8\n"
          ],
          "name": "stdout"
        }
      ]
    },
    {
      "cell_type": "code",
      "metadata": {
        "id": "skW6OlTfQbJC",
        "colab_type": "code",
        "colab": {
          "base_uri": "https://localhost:8080/",
          "height": 69
        },
        "outputId": "476a86e3-c828-4b3a-b87b-38323b13e1f7"
      },
      "source": [
        "#Program to create a list of tuples with the first element as the number and the second  element as the square of the number.  \n",
        "l_range=int(input(\"Enter the lower range:\")) \n",
        "u_range=int(input(\"Enter the upper range:\")) \n",
        "a=[(x,x**2) for x in range(l_range,u_range+1)] \n",
        "print(a) \n"
      ],
      "execution_count": 14,
      "outputs": [
        {
          "output_type": "stream",
          "text": [
            "Enter the lower range:6\n",
            "Enter the upper range:12\n",
            "[(6, 36), (7, 49), (8, 64), (9, 81), (10, 100), (11, 121), (12, 144)]\n"
          ],
          "name": "stdout"
        }
      ]
    },
    {
      "cell_type": "code",
      "metadata": {
        "id": "T3DftYNRQh2a",
        "colab_type": "code",
        "colab": {
          "base_uri": "https://localhost:8080/",
          "height": 52
        },
        "outputId": "3dada080-ea65-4a58-f59b-f6fc5bb59ace"
      },
      "source": [
        "#Python Program to generate random numbers from 1 to 20 and append them to the list. \n",
        "import random \n",
        "a=[] \n",
        "n=int(input(\"Enter number of elements:\")) \n",
        "for j in range(n): \n",
        " a.append(random.randint(1,20)) \n",
        "print('Randomised list is: ',a)\n"
      ],
      "execution_count": 15,
      "outputs": [
        {
          "output_type": "stream",
          "text": [
            "Enter number of elements:5\n",
            "Randomised list is:  [11, 11, 3, 2, 5]\n"
          ],
          "name": "stdout"
        }
      ]
    }
  ]
}