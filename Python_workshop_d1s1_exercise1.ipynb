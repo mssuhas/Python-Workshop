{
  "nbformat": 4,
  "nbformat_minor": 0,
  "metadata": {
    "colab": {
      "name": "Python workshop d1s1 exercise1.ipynb",
      "provenance": [],
      "authorship_tag": "ABX9TyMdw4NSV1AjjqfJ//NJKF50",
      "include_colab_link": true
    },
    "kernelspec": {
      "name": "python3",
      "display_name": "Python 3"
    }
  },
  "cells": [
    {
      "cell_type": "markdown",
      "metadata": {
        "id": "view-in-github",
        "colab_type": "text"
      },
      "source": [
        "<a href=\"https://colab.research.google.com/github/mssuhas/Python-Workshop/blob/master/Python_workshop_d1s1_exercise1.ipynb\" target=\"_parent\"><img src=\"https://colab.research.google.com/assets/colab-badge.svg\" alt=\"Open In Colab\"/></a>"
      ]
    },
    {
      "cell_type": "code",
      "metadata": {
        "id": "7lsn7fcSdiz7",
        "colab_type": "code",
        "colab": {
          "base_uri": "https://localhost:8080/",
          "height": 86
        },
        "outputId": "1c0e86bd-aa3c-4fad-b5fc-2e5c7eb915c7"
      },
      "source": [
        "#Find the compound interest for the given p,n,r  (formula : p(1+r/100)**n )\n",
        "p=float(input(\"enter the principle amount \"))\n",
        "n=float(input(\"enter the time period \"))\n",
        "r=float(input(\"enter the rate of interest \"))\n",
        "\n",
        "print(f\"the Compound Interest is {p*pow((1 + r/100),n)}\")"
      ],
      "execution_count": 13,
      "outputs": [
        {
          "output_type": "stream",
          "text": [
            "enter the principle amount 1000\n",
            "enter the time period 3\n",
            "enter the rate of interest 10\n",
            "the Compound Interest is 1331.0000000000005\n"
          ],
          "name": "stdout"
        }
      ]
    },
    {
      "cell_type": "code",
      "metadata": {
        "id": "lmvOsc9Kedwc",
        "colab_type": "code",
        "colab": {
          "base_uri": "https://localhost:8080/",
          "height": 52
        },
        "outputId": "f2ec8dee-886e-4eb7-fba4-9bf2ed0ae02f"
      },
      "source": [
        "#Convert centegrade to farenheit  ( f= 9/5*c+32)\n",
        "c=float(input(\"enter the temperature in centegrade \"))\n",
        "print(f\"the temperature in farenheit is {(9/5)*c+32}\")"
      ],
      "execution_count": 17,
      "outputs": [
        {
          "output_type": "stream",
          "text": [
            "enter the temperature in centegrade 97\n",
            "the temperature in farenheit is 206.6\n"
          ],
          "name": "stdout"
        }
      ]
    },
    {
      "cell_type": "code",
      "metadata": {
        "id": "zPJ32I_9jHq1",
        "colab_type": "code",
        "colab": {
          "base_uri": "https://localhost:8080/",
          "height": 69
        },
        "outputId": "8f4beae6-97f4-4c5b-d39f-b0d55d3879ef"
      },
      "source": [
        "#Find the greater of two nos\n",
        "a=int(input(\"enter the first no: \"))\n",
        "b=int(input(\"enter the second no: \"))\n",
        "print(f\"greater of two no is {max(a,b)}\")"
      ],
      "execution_count": 18,
      "outputs": [
        {
          "output_type": "stream",
          "text": [
            "enter the first no: 5\n",
            "enter the second no: 6\n",
            "greater of two no is 6\n"
          ],
          "name": "stdout"
        }
      ]
    },
    {
      "cell_type": "code",
      "metadata": {
        "id": "Z2tVrlFZjxh0",
        "colab_type": "code",
        "colab": {
          "base_uri": "https://localhost:8080/",
          "height": 69
        },
        "outputId": "c239d82e-9164-4213-bf71-90429ae269b8"
      },
      "source": [
        "#Write a program for finding surface areas of cylinder and cone (2*PI*r*r*h, 1/3*PI*r*r*h) using function.\n",
        "def cylinder(r,h):\n",
        "  return 2*3.142*r*r*h\n",
        "def cone(r,h):\n",
        "  return 1/3*3.142*r*r*h\n",
        "\n",
        "\n",
        "r=float(input(\"enter the radius \"))\n",
        "h=float(input(\"enter the height \"))\n",
        "print(f\"Surface area of Cylinder is {cylinder(r,h)} and Surface area of Cone is {cone(r,h)} \")"
      ],
      "execution_count": 22,
      "outputs": [
        {
          "output_type": "stream",
          "text": [
            "enter the radius 5\n",
            "enter the height 7\n",
            "Surface area of Cylinder is 1099.7 and Surface area of Cone is 183.2833333333333 \n"
          ],
          "name": "stdout"
        }
      ]
    },
    {
      "cell_type": "code",
      "metadata": {
        "id": "8FBLMLZOklba",
        "colab_type": "code",
        "colab": {
          "base_uri": "https://localhost:8080/",
          "height": 104
        },
        "outputId": "79544243-38b1-4881-bb49-e10a0a502d31"
      },
      "source": [
        "#Find the greatest of four nos ( using ‘and’ operator)   using function\n",
        "def greatest(a,b,c,d):\n",
        "  if(a>b and a>c and a>d):\n",
        "    return a is greater\n",
        "  elif(b>a and b>c and b>d):\n",
        "    return b\n",
        "  elif(c>a and c>b and c>d):\n",
        "    return c\n",
        "  else:\n",
        "    return d\n",
        "\n",
        "a=int(input(\"enter a = \"))\n",
        "b=int(input(\"enter b = \"))\n",
        "c=int(input(\"enter c = \"))\n",
        "d=int(input(\"enter d = \"))\n",
        "print(f\"Greatest of four no's is {greatest(a,b,c,d)}\")"
      ],
      "execution_count": 25,
      "outputs": [
        {
          "output_type": "stream",
          "text": [
            "enter a = 12\n",
            "enter b = 15\n",
            "enter c = 55\n",
            "enter d = 23\n",
            "Greatest of four no's is 55\n"
          ],
          "name": "stdout"
        }
      ]
    },
    {
      "cell_type": "code",
      "metadata": {
        "id": "xRG_XDxdnnfj",
        "colab_type": "code",
        "colab": {
          "base_uri": "https://localhost:8080/",
          "height": 1000
        },
        "outputId": "286a94d4-d25a-487b-8b79-9e911c0401bb"
      },
      "source": [
        "#Write a  menu program to perform the operations ( ODDorEven, Factorial, ODDNoUptoN, PrimeUptoN ) using functions for two nos with  menu choice\n",
        "loop = 1\n",
        "choice = 0 \n",
        "def oor(n):\n",
        "  if (n%2==0):\n",
        "    print(f\"The {n} is Even Number\")\n",
        "  else:\n",
        "    print(f\"The {n} is Odd Number\")\n",
        "def fact(n):\n",
        "  if n==0:\n",
        "    return 1\n",
        "  else:\n",
        "    return n*fact(n-1)\n",
        "def odd(n):\n",
        "  li=list()\n",
        "  for i in range(n):\n",
        "    if (i%2 ==1):\n",
        "      li.append(i)\n",
        "  print(li)\n",
        "\n",
        "def prm(n):\n",
        "  li=list()\n",
        "  for i in range(2,n):\n",
        "    if (i==2):\n",
        "        li.append(i)\n",
        "    else:\n",
        "      for a in range(2,i):\n",
        "        if (i % a==0):\n",
        "          break\n",
        "        elif (a==i-1):\n",
        "          li.append(i)\n",
        "  print(li)\n",
        "\n",
        "while loop == 1:\n",
        "  print('Menu')\n",
        "  print('----')\n",
        "  print('''1.Odd or Even\n",
        "  2.Factorial\n",
        "  3.Odd Numbers\n",
        "  4.Prime Numbers\n",
        "  5.Quit\n",
        "                 ''')\n",
        "  try:\n",
        "        choice = int(input(\"Choose your option: \"))\n",
        "  except:\n",
        "        print('Please enter a valid number for option')\n",
        "  if choice == 1:\n",
        "        x = int(input(\"Enter The Number: \"))\n",
        "        oor(x)\n",
        "        print(\"-------------------------\")\n",
        "\n",
        "  elif choice == 2:\n",
        "        x = int(input(\"Enter The Number: \"))\n",
        "        print(f\"Factorial Of {x} is: {fact(x)}\")\n",
        "        print(\"-------------------------\")\n",
        "  \n",
        "  elif choice == 3:\n",
        "        x = int(input(\"Enter A Number For Range: \"))\n",
        "        odd(x)\n",
        "        print(\"-------------------------\")\n",
        "\n",
        "  elif choice == 4:\n",
        "        x = int(input(\"Enter A Number For Range: \"))\n",
        "        prm(x)\n",
        "        print(\"-------------------------\")\n",
        "  elif choice == 5:\n",
        "      print(\"-------------------------\")\n",
        "      break\n",
        "     \n",
        "  else:\n",
        "        print(\"please choice a valid option from 1 to 5\")\n",
        "        choice=0\n",
        "\n"
      ],
      "execution_count": 48,
      "outputs": [
        {
          "output_type": "stream",
          "text": [
            "Menu\n",
            "----\n",
            "1.Odd or Even\n",
            "  2.Factorial\n",
            "  3.Odd Numbers\n",
            "  4.Prime Numbers\n",
            "  5.Quit\n",
            "                 \n",
            "Choose your option: 1\n",
            "Enter The Number: 5\n",
            "The 5 is Odd Number\n",
            "-------------------------\n",
            "Menu\n",
            "----\n",
            "1.Odd or Even\n",
            "  2.Factorial\n",
            "  3.Odd Numbers\n",
            "  4.Prime Numbers\n",
            "  5.Quit\n",
            "                 \n",
            "Choose your option: 2\n",
            "Enter The Number: 5\n",
            "Factorial Of 5 is: 120\n",
            "-------------------------\n",
            "Menu\n",
            "----\n",
            "1.Odd or Even\n",
            "  2.Factorial\n",
            "  3.Odd Numbers\n",
            "  4.Prime Numbers\n",
            "  5.Quit\n",
            "                 \n",
            "Choose your option: 3\n",
            "Enter A Number For Range: 10\n",
            "[1, 3, 5, 7, 9]\n",
            "-------------------------\n",
            "Menu\n",
            "----\n",
            "1.Odd or Even\n",
            "  2.Factorial\n",
            "  3.Odd Numbers\n",
            "  4.Prime Numbers\n",
            "  5.Quit\n",
            "                 \n",
            "Choose your option: 4\n",
            "Enter A Number For Range: 10\n",
            "[2, 3, 5, 7]\n",
            "-------------------------\n",
            "Menu\n",
            "----\n",
            "1.Odd or Even\n",
            "  2.Factorial\n",
            "  3.Odd Numbers\n",
            "  4.Prime Numbers\n",
            "  5.Quit\n",
            "                 \n",
            "Choose your option: 5\n",
            "-------------------------\n"
          ],
          "name": "stdout"
        }
      ]
    }
  ]
}